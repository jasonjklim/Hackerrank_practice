{
 "cells": [
  {
   "cell_type": "markdown",
   "metadata": {},
   "source": [
    "# Birthday Chocolate"
   ]
  },
  {
   "cell_type": "markdown",
   "metadata": {},
   "source": [
    "https://www.hackerrank.com/challenges/the-birthday-bar/problem <br>\n",
    "Lily has a chocolate bar that she wants to share it with Ron for his birthday. Each of the squares has an integer on it. She decides to share a contiguous segment of the bar selected such that the length of the segment matches Ron's birth month and the sum of the integers on the squares is equal to his birth day. You must determine how many ways she can divide the chocolate.\n",
    "\n",
    "Consider the chocolate bar as an array of squares, . She wants to find segments summing to Ron's birth day,  with a length equalling his birth month, . In this case, there are two segments meeting her criteria:  and .\n",
    "\n",
    "Function Description\n",
    "\n",
    "Complete the birthday function in the editor below. It should return an integer denoting the number of ways Lily can divide the chocolate bar.\n",
    "\n",
    "birthday has the following parameter(s):\n",
    "\n",
    "s: an array of integers, the numbers on each of the squares of chocolate\n",
    "d: an integer, Ron's birth day\n",
    "m: an integer, Ron's birth month\n",
    "Input Format\n",
    "\n",
    "The first line contains an integer , the number of squares in the chocolate bar.\n",
    "The second line contains  space-separated integers , the numbers on the chocolate squares where .\n",
    "The third line contains two space-separated integers,  and , Ron's birth day and his birth month.\n",
    "\n",
    "Constraints\n",
    "\n",
    ", where ()\n",
    "Output Format\n",
    "\n",
    "Print an integer denoting the total number of ways that Lily can portion her chocolate bar to share with Ron.\n",
    "\n",
    "Sample Input 0\n",
    "\n",
    "5\n",
    "1 2 1 3 2\n",
    "3 2\n",
    "Sample Output 0\n",
    "\n",
    "2"
   ]
  },
  {
   "cell_type": "code",
   "execution_count": 2,
   "metadata": {},
   "outputs": [
    {
     "name": "stdout",
     "output_type": "stream",
     "text": [
      "1\n",
      "2\n"
     ]
    }
   ],
   "source": [
    "s = [1,2,1,3,2]\n",
    "\n",
    "for i in range(2):\n",
    "    print(s[i])\n",
    "    if i < len(s):\n",
    "        "
   ]
  },
  {
   "cell_type": "code",
   "execution_count": 6,
   "metadata": {},
   "outputs": [],
   "source": [
    "oo = [i for i in range(2)]"
   ]
  },
  {
   "cell_type": "code",
   "execution_count": 11,
   "metadata": {},
   "outputs": [],
   "source": []
  },
  {
   "cell_type": "code",
   "execution_count": 12,
   "metadata": {},
   "outputs": [
    {
     "data": {
      "text/plain": [
       "[0, 1, 1, 2, 2, 3, 3, 4, 4, 5]"
      ]
     },
     "execution_count": 12,
     "metadata": {},
     "output_type": "execute_result"
    }
   ],
   "source": [
    "lst"
   ]
  },
  {
   "cell_type": "code",
   "execution_count": 16,
   "metadata": {},
   "outputs": [],
   "source": [
    "import math\n",
    "import os\n",
    "import random\n",
    "import re\n",
    "import sys\n",
    "\n",
    "# Complete the birthday function below.\n",
    "def birthday(s, d, m):\n",
    "    \n",
    "    # s is array\n",
    "    # d is int of day\n",
    "    # m is range or number of array that need to be added\n",
    "    # 1. get range\n",
    "    tp = len(s)-m + 1\n",
    "    count = 0\n",
    "    for i in range(tp):\n",
    "        if sum(s[i:i+m]) == d:\n",
    "            count+=1\n",
    "            \n",
    "    return count"
   ]
  },
  {
   "cell_type": "code",
   "execution_count": 17,
   "metadata": {},
   "outputs": [
    {
     "data": {
      "text/plain": [
       "2"
      ]
     },
     "execution_count": 17,
     "metadata": {},
     "output_type": "execute_result"
    }
   ],
   "source": [
    "s = [1,2,1,3,2]\n",
    "d = 3\n",
    "m = 2\n",
    "birthday(s,d,m)"
   ]
  },
  {
   "cell_type": "code",
   "execution_count": null,
   "metadata": {},
   "outputs": [],
   "source": []
  }
 ],
 "metadata": {
  "kernelspec": {
   "display_name": "Python 3",
   "language": "python",
   "name": "python3"
  },
  "language_info": {
   "codemirror_mode": {
    "name": "ipython",
    "version": 3
   },
   "file_extension": ".py",
   "mimetype": "text/x-python",
   "name": "python",
   "nbconvert_exporter": "python",
   "pygments_lexer": "ipython3",
   "version": "3.7.7"
  }
 },
 "nbformat": 4,
 "nbformat_minor": 4
}
