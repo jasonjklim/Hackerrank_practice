{
 "cells": [
  {
   "cell_type": "markdown",
   "metadata": {},
   "source": [
    "# Time Conversion"
   ]
  },
  {
   "cell_type": "markdown",
   "metadata": {},
   "source": [
    "Given a time in -hour AM/PM format, convert it to military (24-hour) time.\n",
    "\n",
    "Note: - 12:00:00AM on a 12-hour clock is 00:00:00 on a 24-hour clock.\n",
    "- 12:00:00PM on a 12-hour clock is 12:00:00 on a 24-hour clock.\n",
    "\n",
    "Example\n",
    "\n",
    "\n",
    "Return '12:01:00'.\n",
    "\n",
    "\n",
    "Return '00:01:00'.\n",
    "\n",
    "Function Description\n",
    "\n",
    "Complete the timeConversion function in the editor below. It should return a new string representing the input time in 24 hour format.\n",
    "\n",
    "timeConversion has the following parameter(s):\n",
    "\n",
    "string s: a time in  hour format\n",
    "Returns\n",
    "\n",
    "string: the time in  hour format\n",
    "Input Format\n",
    "\n",
    "A single string  that represents a time in -hour clock format (i.e.:  or ).\n",
    "\n",
    "Constraints\n",
    "\n",
    "All input times are valid\n",
    "Sample Input 0\n",
    "\n",
    "07:05:45PM\n",
    "Sample Output 0\n",
    "\n",
    "19:05:45"
   ]
  },
  {
   "cell_type": "code",
   "execution_count": 5,
   "metadata": {},
   "outputs": [],
   "source": [
    "#!/bin/python3\n",
    "\n",
    "import os\n",
    "import sys\n",
    "\n",
    "#\n",
    "# Complete the timeConversion function below.\n",
    "#\n",
    "def timeConversion(s):\n",
    "    #\n",
    "    # Write your code here.\n",
    "    #\n",
    "    # 1. check PM and AM\n",
    "    p = s[-2:]\n",
    "    # 2. determine s into h m s \n",
    "    \n",
    "    h, m, sec = map(int, s[:-2].split(\":\"))\n",
    "    \n",
    "    # 3. change h into 24 hours format\n",
    "    # if am leave, pm add 12\n",
    "    h = h%12 + (p.upper()=='PM')*12\n",
    "    \n",
    "    time =(('%02d:%02d:%02d') % (h, m, sec))\n",
    "    return time\n",
    "\n"
   ]
  },
  {
   "cell_type": "code",
   "execution_count": 7,
   "metadata": {},
   "outputs": [
    {
     "data": {
      "text/plain": [
       "'07:05:45'"
      ]
     },
     "execution_count": 7,
     "metadata": {},
     "output_type": "execute_result"
    }
   ],
   "source": [
    "timeConversion('07:05:45AM')"
   ]
  },
  {
   "cell_type": "code",
   "execution_count": null,
   "metadata": {},
   "outputs": [],
   "source": []
  }
 ],
 "metadata": {
  "kernelspec": {
   "display_name": "Python 3",
   "language": "python",
   "name": "python3"
  },
  "language_info": {
   "codemirror_mode": {
    "name": "ipython",
    "version": 3
   },
   "file_extension": ".py",
   "mimetype": "text/x-python",
   "name": "python",
   "nbconvert_exporter": "python",
   "pygments_lexer": "ipython3",
   "version": "3.7.7"
  }
 },
 "nbformat": 4,
 "nbformat_minor": 4
}
