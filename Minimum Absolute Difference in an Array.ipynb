{
 "cells": [
  {
   "cell_type": "markdown",
   "metadata": {},
   "source": [
    "# Minimum Absolute Difference in an Array\n",
    "\n",
    "https://www.hackerrank.com/challenges/minimum-absolute-difference-in-an-array/problem?h_l=interview&playlist_slugs%5B%5D=interview-preparation-kit&playlist_slugs%5B%5D=greedy-algorithms"
   ]
  },
  {
   "cell_type": "markdown",
   "metadata": {},
   "source": [
    "Consider an array of integers, . We define the absolute difference between two elements,  and  (where ), to be the absolute value of .\n",
    "\n",
    "Given an array of integers, find and print the minimum absolute difference between any two elements in the array. For example, given the array  we can create  pairs of numbers:  and . The absolute differences for these pairs are ,  and . The minimum absolute difference is .\n",
    "\n",
    "Function Description\n",
    "\n",
    "Complete the minimumAbsoluteDifference function in the editor below. It should return an integer that represents the minimum absolute difference between any pair of elements.\n",
    "\n",
    "minimumAbsoluteDifference has the following parameter(s):\n",
    "\n",
    "n: an integer that represents the length of arr\n",
    "arr: an array of integers\n",
    "Input Format\n",
    "\n",
    "The first line contains a single integer , the size of .\n",
    "The second line contains  space-separated integers .\n",
    "\n",
    "Constraints\n",
    "\n",
    "Output Format\n",
    "\n",
    "Print the minimum absolute difference between any two elements in the array.\n",
    "\n",
    "Sample Input 0\n",
    "\n",
    "3\n",
    "3 -7 0\n",
    "Sample Output 0\n",
    "\n",
    "3\n",
    "Explanation 0\n",
    "\n",
    "With  integers in our array, we have three possible pairs: , , and . The absolute values of the differences between these pairs are as follows:\n",
    "\n",
    "Notice that if we were to switch the order of the numbers in these pairs, the resulting absolute values would still be the same. The smallest of these possible absolute differences is .\n",
    "\n",
    "Sample Input 1\n",
    "\n",
    "10\n",
    "-59 -36 -13 1 -53 -92 -2 -96 -54 75\n",
    "Sample Output 1\n",
    "\n",
    "1\n",
    "Explanation 1\n",
    "\n",
    "The smallest absolute difference is .\n",
    "\n",
    "Sample Input 2\n",
    "\n",
    "5\n",
    "1 -3 71 68 17\n",
    "Sample Output 2\n",
    "\n",
    "3\n",
    "Explanation 2\n",
    "\n",
    "The minimum absolute difference is ."
   ]
  },
  {
   "cell_type": "code",
   "execution_count": 1,
   "metadata": {},
   "outputs": [],
   "source": [
    "arr = [3,-7,0]"
   ]
  },
  {
   "cell_type": "code",
   "execution_count": 2,
   "metadata": {},
   "outputs": [
    {
     "name": "stdout",
     "output_type": "stream",
     "text": [
      "0 1\n",
      "0 2\n",
      "1 2\n"
     ]
    }
   ],
   "source": [
    "# get differences for each element from array\n",
    "# using index\n",
    "# add them in list, get min\n",
    "# check index working\n",
    "for i in range(len(arr)-1):\n",
    "    for j in range(i+1, len(arr)):\n",
    "        print(i,j)"
   ]
  },
  {
   "cell_type": "code",
   "execution_count": 3,
   "metadata": {},
   "outputs": [
    {
     "data": {
      "text/plain": [
       "[10, 3, 7]"
      ]
     },
     "execution_count": 3,
     "metadata": {},
     "output_type": "execute_result"
    }
   ],
   "source": [
    "# create list and append abs diff\n",
    "lst = []\n",
    "for i in range(len(arr)-1):\n",
    "    for j in range(i+1, len(arr)):\n",
    "        lst.append(abs(arr[i]-arr[j]))\n",
    "        \n",
    "lst"
   ]
  },
  {
   "cell_type": "code",
   "execution_count": 4,
   "metadata": {},
   "outputs": [
    {
     "data": {
      "text/plain": [
       "3"
      ]
     },
     "execution_count": 4,
     "metadata": {},
     "output_type": "execute_result"
    }
   ],
   "source": [
    "min(lst)"
   ]
  },
  {
   "cell_type": "code",
   "execution_count": null,
   "metadata": {},
   "outputs": [],
   "source": []
  },
  {
   "cell_type": "code",
   "execution_count": null,
   "metadata": {},
   "outputs": [],
   "source": [
    "lst = []\n",
    "for i in range(len(arr)-1):\n",
    "    for j in range(i+1, len(arr)):\n",
    "        lst.append(abs(arr[i]-arr[j]))\n",
    "min(lst)"
   ]
  },
  {
   "cell_type": "code",
   "execution_count": 7,
   "metadata": {},
   "outputs": [
    {
     "name": "stdout",
     "output_type": "stream",
     "text": [
      "0 -7\n",
      "3 0\n"
     ]
    }
   ],
   "source": [
    "arr = [3,-7,0]\n",
    "arr.sort()\n",
    "for counter in range(len(arr)-1):\n",
    "    print(arr[counter+1], arr[counter])"
   ]
  },
  {
   "cell_type": "code",
   "execution_count": 9,
   "metadata": {},
   "outputs": [
    {
     "name": "stdout",
     "output_type": "stream",
     "text": [
      "4\n",
      "33\n",
      "5\n",
      "1\n",
      "17\n",
      "23\n",
      "11\n",
      "3\n",
      "74\n"
     ]
    }
   ],
   "source": [
    "arr= [-59,-36, -13, 1, -53, -92, -2, -96, -54, 75]\n",
    "arr.sort()\n",
    "for counter in range(len(arr)-1):\n",
    "    print(abs(arr[counter+1]- arr[counter]))"
   ]
  },
  {
   "cell_type": "code",
   "execution_count": 10,
   "metadata": {},
   "outputs": [
    {
     "data": {
      "text/plain": [
       "1"
      ]
     },
     "execution_count": 10,
     "metadata": {},
     "output_type": "execute_result"
    }
   ],
   "source": [
    "arr= [-59,-36, -13, 1, -53, -92, -2, -96, -54, 75]\n",
    "lst = []\n",
    "for i in range(len(arr)-1):\n",
    "    for j in range(i+1, len(arr)):\n",
    "        lst.append(abs(arr[i]-arr[j]))\n",
    "min(lst)"
   ]
  },
  {
   "cell_type": "code",
   "execution_count": null,
   "metadata": {},
   "outputs": [],
   "source": [
    "def minimumAbsoluteDifference(arr):\n",
    "    arr.sort()\n",
    "    \n",
    "    return min([abs(arr[counter+1]-arr[counter]) for counter in range(len(arr)-1)])"
   ]
  }
 ],
 "metadata": {
  "kernelspec": {
   "display_name": "Python 3",
   "language": "python",
   "name": "python3"
  },
  "language_info": {
   "codemirror_mode": {
    "name": "ipython",
    "version": 3
   },
   "file_extension": ".py",
   "mimetype": "text/x-python",
   "name": "python",
   "nbconvert_exporter": "python",
   "pygments_lexer": "ipython3",
   "version": "3.7.7"
  }
 },
 "nbformat": 4,
 "nbformat_minor": 4
}
