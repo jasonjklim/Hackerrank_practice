{
 "cells": [
  {
   "cell_type": "markdown",
   "metadata": {},
   "source": [
    "# Organizing Containers of Balls\n",
    "\n",
    "https://www.hackerrank.com/challenges/organizing-containers-of-balls/problem?h_r=next-challenge&h_v=zen&h_r=next-challenge&h_v=zen"
   ]
  },
  {
   "cell_type": "markdown",
   "metadata": {},
   "source": [
    "David has several containers, each with a number of balls in it. He has just enough containers to sort each type of ball he has into its own container. David wants to sort the balls using his sort method.\n",
    "\n",
    "As an example, David has  containers and  different types of balls, both of which are numbered from  to . The distribution of ball types per container are described by an  matrix of integers, . For example, consider the following diagram for :\n",
    "\n",
    "image\n",
    "\n",
    "In a single operation, David can swap two balls located in different containers.\n",
    "\n",
    "The diagram below depicts a single swap operation:\n",
    "\n",
    "image\n",
    "\n",
    "David wants to perform some number of swap operations such that:\n",
    "\n",
    "Each container contains only balls of the same type.\n",
    "No two balls of the same type are located in different containers.\n",
    "You must perform  queries where each query is in the form of a matrix, . For each query, print Possible on a new line if David can satisfy the conditions above for the given matrix. Otherwise, print Impossible.\n",
    "\n",
    "Function Description\n",
    "\n",
    "Complete the organizingContainers function in the editor below. It should return a string, either Possible or Impossible.\n",
    "\n",
    "organizingContainers has the following parameter(s):\n",
    "\n",
    "containter: a two dimensional array of integers that represent the number of balls of each color in each container\n",
    "Input Format\n",
    "\n",
    "The first line contains an integer , the number of queries.\n",
    "\n",
    "Each of the next  sets of lines is as follows:\n",
    "\n",
    "The first line contains an integer , the number of containers (rows) and ball types (columns).\n",
    "Each of the next  lines contains  space-separated integers describing row .\n",
    "Constraints\n",
    "\n",
    "Scoring\n",
    "\n",
    "For  of score, .\n",
    "For  of score, .\n",
    "Output Format\n",
    "\n",
    "For each query, print Possible on a new line if David can satisfy the conditions above for the given matrix. Otherwise, print Impossible.\n",
    "\n",
    "Sample Input 0\n",
    "\n",
    "2\n",
    "2\n",
    "1 1\n",
    "1 1\n",
    "2\n",
    "0 2\n",
    "1 1\n",
    "Sample Output 0\n",
    "\n",
    "Possible\n",
    "Impossible\n",
    "Explanation 0\n",
    "\n",
    "We perform the following  queries:\n",
    "\n",
    "The diagram below depicts one possible way to satisfy David's requirements for the first query:image\n",
    "Thus, we print Possible on a new line.\n",
    "The diagram below depicts the matrix for the second query:image\n",
    "No matter how many times we swap balls of type  and  between the two containers, we'll never end up with one container only containing type  and the other container only containing type . Thus, we print Impossible on a new line.\n",
    "Sample Input 1\n",
    "\n",
    "2\n",
    "3\n",
    "1 3 1\n",
    "2 1 2\n",
    "3 3 3\n",
    "3\n",
    "0 2 1\n",
    "1 1 1\n",
    "2 0 0\n",
    "Sample Output 1\n",
    "\n",
    "Impossible\n",
    "Possible"
   ]
  },
  {
   "cell_type": "code",
   "execution_count": 5,
   "metadata": {},
   "outputs": [
    {
     "name": "stdout",
     "output_type": "stream",
     "text": [
      "(0, 1, 2)\n",
      "(2, 1, 0)\n",
      "(1, 1, 0)\n"
     ]
    }
   ],
   "source": [
    "container = [[0, 2,1],[1, 1, 1],[2, 0, 0]]\n",
    "\n",
    "for x in zip(*container):\n",
    "    print(x)"
   ]
  },
  {
   "cell_type": "code",
   "execution_count": 8,
   "metadata": {},
   "outputs": [
    {
     "name": "stdout",
     "output_type": "stream",
     "text": [
      "3\n",
      "3\n",
      "2\n"
     ]
    }
   ],
   "source": [
    "for x in container:\n",
    "    print(sum(x))"
   ]
  },
  {
   "cell_type": "code",
   "execution_count": 12,
   "metadata": {},
   "outputs": [
    {
     "data": {
      "text/plain": [
       "[2, 3, 3]"
      ]
     },
     "execution_count": 12,
     "metadata": {},
     "output_type": "execute_result"
    }
   ],
   "source": [
    "real = sorted([sum(x) for x in container])\n",
    "real"
   ]
  },
  {
   "cell_type": "code",
   "execution_count": 10,
   "metadata": {},
   "outputs": [
    {
     "data": {
      "text/plain": [
       "[2, 3, 3]"
      ]
     },
     "execution_count": 10,
     "metadata": {},
     "output_type": "execute_result"
    }
   ],
   "source": [
    "sorted([sum(x) for x in zip(*container)])"
   ]
  },
  {
   "cell_type": "code",
   "execution_count": 13,
   "metadata": {},
   "outputs": [],
   "source": [
    "def organizingContainers(container):\n",
    "    # container is list within list\n",
    "    real = sorted([sum(x) for x in container])\n",
    "    scenario = sorted([sum(x) for x in zip(*container)])\n",
    "    return \"Possible\" if real == scenario else \"Impossible\""
   ]
  },
  {
   "cell_type": "code",
   "execution_count": 14,
   "metadata": {},
   "outputs": [
    {
     "data": {
      "text/plain": [
       "'Possible'"
      ]
     },
     "execution_count": 14,
     "metadata": {},
     "output_type": "execute_result"
    }
   ],
   "source": [
    "container = [[0, 2,1],[1, 1, 1],[2, 0, 0]]\n",
    "\n",
    "organizingContainers(container)"
   ]
  },
  {
   "cell_type": "code",
   "execution_count": null,
   "metadata": {},
   "outputs": [],
   "source": []
  }
 ],
 "metadata": {
  "kernelspec": {
   "display_name": "Python 3",
   "language": "python",
   "name": "python3"
  },
  "language_info": {
   "codemirror_mode": {
    "name": "ipython",
    "version": 3
   },
   "file_extension": ".py",
   "mimetype": "text/x-python",
   "name": "python",
   "nbconvert_exporter": "python",
   "pygments_lexer": "ipython3",
   "version": "3.7.7"
  }
 },
 "nbformat": 4,
 "nbformat_minor": 4
}
