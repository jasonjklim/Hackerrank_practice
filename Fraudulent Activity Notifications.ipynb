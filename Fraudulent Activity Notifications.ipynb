{
 "cells": [
  {
   "cell_type": "markdown",
   "metadata": {},
   "source": [
    "# Fraudulent Activity Notifications\n",
    "\n",
    "https://www.hackerrank.com/challenges/fraudulent-activity-notifications/problem?h_l=interview&playlist_slugs%5B%5D=interview-preparation-kit&playlist_slugs%5B%5D=sorting"
   ]
  },
  {
   "cell_type": "markdown",
   "metadata": {},
   "source": [
    "HackerLand National Bank has a simple policy for warning clients about possible fraudulent account activity. If the amount spent by a client on a particular day is greater than or equal to  the client's median spending for a trailing number of days, they send the client a notification about potential fraud. The bank doesn't send the client any notifications until they have at least that trailing number of prior days' transaction data.\n",
    "\n",
    "Given the number of trailing days  and a client's total daily expenditures for a period of  days, find and print the number of times the client will receive a notification over all  days.\n",
    "\n",
    "For example,  and . On the first three days, they just collect spending data. At day , we have trailing expenditures of . The median is  and the day's expenditure is . Because , there will be a notice. The next day, our trailing expenditures are  and the expenditures are . This is less than  so no notice will be sent. Over the period, there was one notice sent.\n",
    "\n",
    "Note: The median of a list of numbers can be found by arranging all the numbers from smallest to greatest. If there is an odd number of numbers, the middle one is picked. If there is an even number of numbers, median is then defined to be the average of the two middle values. (Wikipedia)\n",
    "\n",
    "Function Description\n",
    "\n",
    "Complete the function activityNotifications in the editor below. It must return an integer representing the number of client notifications.\n",
    "\n",
    "activityNotifications has the following parameter(s):\n",
    "\n",
    "expenditure: an array of integers representing daily expenditures\n",
    "d: an integer, the lookback days for median spending\n",
    "Input Format\n",
    "\n",
    "The first line contains two space-separated integers  and , the number of days of transaction data, and the number of trailing days' data used to calculate median spending.\n",
    "The second line contains  space-separated non-negative integers where each integer  denotes .\n",
    "\n",
    "Constraints\n",
    "\n",
    "Output Format\n",
    "\n",
    "Print an integer denoting the total number of times the client receives a notification over a period of  days.\n",
    "\n",
    "Sample Input 0\n",
    "\n",
    "9 5\n",
    "2 3 4 2 3 6 8 4 5\n",
    "Sample Output 0\n",
    "\n",
    "2\n",
    "Explanation 0\n",
    "\n",
    "We must determine the total number of  the client receives over a period of  days. For the first five days, the customer receives no notifications because the bank has insufficient transaction data: .\n",
    "\n",
    "On the sixth day, the bank has  days of prior transaction data, , and  dollars. The client spends  dollars, which triggers a notification because : .\n",
    "\n",
    "On the seventh day, the bank has  days of prior transaction data, , and  dollars. The client spends  dollars, which triggers a notification because : .\n",
    "\n",
    "On the eighth day, the bank has  days of prior transaction data, , and  dollars. The client spends  dollars, which does not trigger a notification because : .\n",
    "\n",
    "On the ninth day, the bank has  days of prior transaction data, , and a transaction median of  dollars. The client spends  dollars, which does not trigger a notification because : .\n",
    "\n",
    "Sample Input 1\n",
    "\n",
    "5 4\n",
    "1 2 3 4 4\n",
    "Sample Output 1\n",
    "\n",
    "0\n",
    "There are  days of data required so the first day a notice might go out is day . Our trailing expenditures are  with a median of  The client spends  which is less than  so no notification is sent."
   ]
  },
  {
   "cell_type": "code",
   "execution_count": 1,
   "metadata": {},
   "outputs": [],
   "source": [
    "e = [2,3,4,2,3,6,8,4,5]\n",
    "d = 5"
   ]
  },
  {
   "cell_type": "code",
   "execution_count": 2,
   "metadata": {},
   "outputs": [
    {
     "data": {
      "text/plain": [
       "[2, 2, 3, 3, 4]"
      ]
     },
     "execution_count": 2,
     "metadata": {},
     "output_type": "execute_result"
    }
   ],
   "source": [
    "c = 0\n",
    "val = e[d]\n",
    "m = 0\n",
    "lst = sorted(e[0:d])\n",
    "lst\n",
    "# median \n"
   ]
  },
  {
   "cell_type": "code",
   "execution_count": 3,
   "metadata": {},
   "outputs": [
    {
     "data": {
      "text/plain": [
       "3.0"
      ]
     },
     "execution_count": 3,
     "metadata": {},
     "output_type": "execute_result"
    }
   ],
   "source": [
    "import math\n",
    "# median \n",
    "m = (lst[math.ceil((d-1)/2)]+lst[math.floor((d-1)/2)])/2\n",
    "\n",
    "m"
   ]
  },
  {
   "cell_type": "code",
   "execution_count": 4,
   "metadata": {},
   "outputs": [
    {
     "name": "stdout",
     "output_type": "stream",
     "text": [
      "6\n"
     ]
    }
   ],
   "source": [
    "if val >= m*2:\n",
    "    print(val)"
   ]
  },
  {
   "cell_type": "code",
   "execution_count": 5,
   "metadata": {},
   "outputs": [],
   "source": [
    "import bisect\n",
    "def activityNotifications(e, d):\n",
    "    c,val,m=0,e[d],0\n",
    "    l=[]\n",
    "# for i=0\n",
    "    l=sorted(e[0:d])\n",
    "# Finding median :/\n",
    "    m=(l[math.ceil((d-1)/2)]+l[math.floor((d-1)/2)])/2\n",
    "    if val>=2*m:\n",
    "        c+=1\n",
    "    for i in range(1,len(e)-d):\n",
    "# O(log(n)) -> Bisect method works on the concept of binary search\n",
    "        b=bisect.bisect_left(l,e[i-1])\n",
    "        del l[b]\n",
    "# you could remove l[e[i-1]] but it would take O(n) time to find the e[i-1] element whereas bisect_left assume a sorted list and find the index in O(log(n)).\n",
    "        bisect.insort_left(l,val)\n",
    "# insort_left(list, num) :- This function returns the sorted list after inserting number in appropriate position,\n",
    "        m=(l[math.ceil((d-1)/2)]+l[math.floor((d-1)/2)])/2\n",
    "        val=e[i+d]\n",
    "        if val>=2*m:\n",
    "            c+=1\n",
    "    return c"
   ]
  },
  {
   "cell_type": "code",
   "execution_count": 6,
   "metadata": {},
   "outputs": [
    {
     "data": {
      "text/plain": [
       "2"
      ]
     },
     "execution_count": 6,
     "metadata": {},
     "output_type": "execute_result"
    }
   ],
   "source": [
    "activityNotifications(e, d)"
   ]
  },
  {
   "cell_type": "code",
   "execution_count": null,
   "metadata": {},
   "outputs": [],
   "source": []
  }
 ],
 "metadata": {
  "kernelspec": {
   "display_name": "Python 3",
   "language": "python",
   "name": "python3"
  },
  "language_info": {
   "codemirror_mode": {
    "name": "ipython",
    "version": 3
   },
   "file_extension": ".py",
   "mimetype": "text/x-python",
   "name": "python",
   "nbconvert_exporter": "python",
   "pygments_lexer": "ipython3",
   "version": "3.7.7"
  }
 },
 "nbformat": 4,
 "nbformat_minor": 4
}
