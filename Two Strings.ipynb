{
 "cells": [
  {
   "cell_type": "markdown",
   "metadata": {},
   "source": [
    "# Two Strings\n",
    "\n",
    "https://www.hackerrank.com/challenges/two-strings/problem?h_l=interview&playlist_slugs%5B%5D=interview-preparation-kit&playlist_slugs%5B%5D=dictionaries-hashmaps"
   ]
  },
  {
   "cell_type": "markdown",
   "metadata": {},
   "source": [
    "Given two strings, determine if they share a common substring. A substring may be as small as one character.\n",
    "\n",
    "For example, the words \"a\", \"and\", \"art\" share the common substring . The words \"be\" and \"cat\" do not share a substring.\n",
    "\n",
    "Function Description\n",
    "\n",
    "Complete the function twoStrings in the editor below. It should return a string, either YES or NO based on whether the strings share a common substring.\n",
    "\n",
    "twoStrings has the following parameter(s):\n",
    "\n",
    "s1, s2: two strings to analyze .\n",
    "Input Format\n",
    "\n",
    "The first line contains a single integer , the number of test cases.\n",
    "\n",
    "The following  pairs of lines are as follows:\n",
    "\n",
    "The first line contains string .\n",
    "The second line contains string .\n",
    "Constraints\n",
    "\n",
    " and  consist of characters in the range ascii[a-z].\n",
    "Output Format\n",
    "\n",
    "For each pair of strings, return YES or NO.\n",
    "\n",
    "Sample Input\n",
    "\n",
    "2\n",
    "hello\n",
    "world\n",
    "hi\n",
    "world\n",
    "Sample Output\n",
    "\n",
    "YES\n",
    "NO\n",
    "Explanation\n",
    "\n",
    "We have  pairs to check:\n",
    "\n",
    ", . The substrings  and  are common to both strings.\n",
    ", .  and  share no common substrings."
   ]
  },
  {
   "cell_type": "code",
   "execution_count": 2,
   "metadata": {},
   "outputs": [
    {
     "name": "stdout",
     "output_type": "stream",
     "text": [
      "o\n",
      "l\n"
     ]
    }
   ],
   "source": [
    "s1 = \"hello\"\n",
    "s2 = 'World'\n",
    "\n",
    "\n",
    "ss1 = set(s1)\n",
    "\n",
    "for i in ss1:\n",
    "    if i in s2:\n",
    "        print(i)"
   ]
  },
  {
   "cell_type": "code",
   "execution_count": 3,
   "metadata": {},
   "outputs": [],
   "source": [
    "def twoStrings(s1, s2):\n",
    "    # 1. for iter in s1, I will check whether it is in s2 or not.\n",
    "    # 2. Then append it in the list \n",
    "    # 3. check whether my list is empty or not, then return yes or no\n",
    "\n",
    "    # create list\n",
    "    lst = [] \n",
    "    # check s1 to remove duplicate letters.\n",
    "    # i.e. l from hello.\n",
    "    ss1 = set(s1)\n",
    "    # iter in s1\n",
    "    for x in ss1:\n",
    "        # check whether s2 has its char or not.\n",
    "        if x in s2:\n",
    "            lst.append(x)\n",
    "    \n",
    "    # check my list is empyt or not\n",
    "    if len(lst) > 0:\n",
    "        return 'YES'\n",
    "    else:\n",
    "        return 'NO'"
   ]
  },
  {
   "cell_type": "code",
   "execution_count": null,
   "metadata": {},
   "outputs": [],
   "source": []
  }
 ],
 "metadata": {
  "kernelspec": {
   "display_name": "Python 3",
   "language": "python",
   "name": "python3"
  },
  "language_info": {
   "codemirror_mode": {
    "name": "ipython",
    "version": 3
   },
   "file_extension": ".py",
   "mimetype": "text/x-python",
   "name": "python",
   "nbconvert_exporter": "python",
   "pygments_lexer": "ipython3",
   "version": "3.7.7"
  }
 },
 "nbformat": 4,
 "nbformat_minor": 4
}
