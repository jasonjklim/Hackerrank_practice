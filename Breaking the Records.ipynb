{
 "cells": [
  {
   "cell_type": "markdown",
   "metadata": {},
   "source": [
    "# Breaking the Records\n",
    "\n"
   ]
  },
  {
   "cell_type": "markdown",
   "metadata": {},
   "source": [
    "https://www.hackerrank.com/challenges/breaking-best-and-worst-records/problem<br>\n",
    "\n",
    "\n",
    "\n",
    "\n",
    "Maria plays college basketball and wants to go pro. Each season she maintains a record of her play. She tabulates the number of times she breaks her season record for most points and least points in a game. Points scored in the first game establish her record for the season, and she begins counting from there.\n",
    "\n",
    "For example, assume her scores for the season are represented in the array . Scores are in the same order as the games played. She would tabulate her results as follows:\n",
    "\n",
    "                                 Count\n",
    "Game  Score  Minimum  Maximum   Min Max\n",
    " 0      12     12       12       0   0\n",
    " 1      24     12       24       0   1\n",
    " 2      10     10       24       1   1\n",
    " 3      24     10       24       1   1\n",
    "Given Maria's scores for a season, find and print the number of times she breaks her records for most and least points scored during the season.\n",
    "\n",
    "Function Description\n",
    "\n",
    "Complete the breakingRecords function in the editor below. It must return an integer array containing the numbers of times she broke her records. Index  is for breaking most points records, and index  is for breaking least points records.\n",
    "\n",
    "breakingRecords has the following parameter(s):\n",
    "\n",
    "scores: an array of integers\n",
    "Input Format\n",
    "\n",
    "The first line contains an integer , the number of games.\n",
    "The second line contains  space-separated integers describing the respective values of .\n",
    "\n",
    "Constraints\n",
    "\n",
    "Output Format\n",
    "\n",
    "Print two space-seperated integers describing the respective numbers of times her best (highest) score increased and her worst (lowest) score decreased.\n",
    "\n",
    "Sample Input 0\n",
    "\n",
    "9\n",
    "10 5 20 20 4 5 2 25 1\n",
    "Sample Output 0\n",
    "\n",
    "2 4"
   ]
  },
  {
   "cell_type": "code",
   "execution_count": 6,
   "metadata": {},
   "outputs": [],
   "source": [
    "#!/bin/python3\n",
    "\n",
    "import math\n",
    "import os\n",
    "import random\n",
    "import re\n",
    "import sys\n",
    "\n",
    "# Complete the breakingRecords function below.\n",
    "def breakingRecords(scores):\n",
    "    # 1. first highest and lowest score is scores[0]\n",
    "    high, low = scores[0], scores[0]\n",
    "    # 1, check if it is high or lower\n",
    "    # 2. if it is high, high count+=1 and replace number to high\n",
    "    high_count = 0\n",
    "    low_count = 0\n",
    "    for ind in range(1, len(scores)):\n",
    "        \n",
    "        # for high\n",
    "        if scores[ind] > high:\n",
    "            high_count += 1\n",
    "            high = scores[ind]\n",
    "        # for low\n",
    "        if scores[ind] < low:\n",
    "            low_count += 1\n",
    "            low = scores[ind]\n",
    "            \n",
    "            \n",
    "    return high_count, low_count\n",
    "    # 2. count if the next number is over first score than count\n",
    "    \n"
   ]
  },
  {
   "cell_type": "code",
   "execution_count": 7,
   "metadata": {},
   "outputs": [
    {
     "data": {
      "text/plain": [
       "(4, 0)"
      ]
     },
     "execution_count": 7,
     "metadata": {},
     "output_type": "execute_result"
    }
   ],
   "source": [
    "breakingRecords([3,4,21,36,10,28,35,5,24,42])"
   ]
  },
  {
   "cell_type": "code",
   "execution_count": null,
   "metadata": {},
   "outputs": [],
   "source": []
  }
 ],
 "metadata": {
  "kernelspec": {
   "display_name": "Python 3",
   "language": "python",
   "name": "python3"
  },
  "language_info": {
   "codemirror_mode": {
    "name": "ipython",
    "version": 3
   },
   "file_extension": ".py",
   "mimetype": "text/x-python",
   "name": "python",
   "nbconvert_exporter": "python",
   "pygments_lexer": "ipython3",
   "version": "3.7.7"
  }
 },
 "nbformat": 4,
 "nbformat_minor": 4
}
