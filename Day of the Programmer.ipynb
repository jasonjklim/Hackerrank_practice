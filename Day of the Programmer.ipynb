{
 "cells": [
  {
   "cell_type": "markdown",
   "metadata": {},
   "source": [
    "# Day of the Programmer\n",
    "\n",
    "https://www.hackerrank.com/challenges/day-of-the-programmer/problem"
   ]
  },
  {
   "cell_type": "markdown",
   "metadata": {},
   "source": [
    "Marie invented a Time Machine and wants to test it by time-traveling to visit Russia on the Day of the Programmer (the  day of the year) during a year in the inclusive range from  to .\n",
    "\n",
    "From  to , Russia's official calendar was the Julian calendar; since  they used the Gregorian calendar system. The transition from the Julian to Gregorian calendar system occurred in , when the next day after January  was February . This means that in , February  was the  day of the year in Russia.\n",
    "\n",
    "In both calendar systems, February is the only month with a variable amount of days; it has  days during a leap year, and  days during all other years. In the Julian calendar, leap years are divisible by ; in the Gregorian calendar, leap years are either of the following:\n",
    "\n",
    "Divisible by .\n",
    "Divisible by  and not divisible by .\n",
    "Given a year, , find the date of the  day of that year according to the official Russian calendar during that year. Then print it in the format dd.mm.yyyy, where dd is the two-digit day, mm is the two-digit month, and yyyy is .\n",
    "\n",
    "For example, the given .  is divisible by , so it is a leap year. The  day of a leap year after  is September 12, so the answer is .\n",
    "\n",
    "Function Description\n",
    "\n",
    "Complete the dayOfProgrammer function in the editor below. It should return a string representing the date of the  day of the year given.\n",
    "\n",
    "dayOfProgrammer has the following parameter(s):\n",
    "\n",
    "year: an integer\n",
    "Input Format\n",
    "\n",
    "A single integer denoting year .\n",
    "\n",
    "Constraints\n",
    "\n",
    "Output Format\n",
    "\n",
    "Print the full date of Day of the Programmer during year  in the format dd.mm.yyyy, where dd is the two-digit day, mm is the two-digit month, and yyyy is .\n",
    "\n",
    "Sample Input 0\n",
    "\n",
    "2017\n",
    "Sample Output 0\n",
    "\n",
    "13.09.2017"
   ]
  },
  {
   "cell_type": "code",
   "execution_count": 13,
   "metadata": {},
   "outputs": [],
   "source": [
    "# Complete the dayOfProgrammer function below.\n",
    "def dayOfProgrammer(year):\n",
    "    \n",
    "    # 1. check leap year or not\n",
    "    if year == 1918:\n",
    "        return '26.09.{}'.format(year)\n",
    "    elif year%4 == 0 and (year < 1918 or year % 400 == 0 or year % 100 != 0):\n",
    "        \n",
    "        return '12.09.{}'.format(year)\n",
    "    else:\n",
    "        return '13.09.{}'.format(year)"
   ]
  },
  {
   "cell_type": "code",
   "execution_count": 15,
   "metadata": {},
   "outputs": [
    {
     "data": {
      "text/plain": [
       "'13.09.1800'"
      ]
     },
     "execution_count": 15,
     "metadata": {},
     "output_type": "execute_result"
    }
   ],
   "source": [
    "dayOfProgrammer(1800)"
   ]
  },
  {
   "cell_type": "code",
   "execution_count": 5,
   "metadata": {},
   "outputs": [
    {
     "name": "stdout",
     "output_type": "stream",
     "text": [
      "12.09.2009\n"
     ]
    }
   ],
   "source": [
    "print('12.09.{}'.format(2009))"
   ]
  },
  {
   "cell_type": "code",
   "execution_count": 11,
   "metadata": {},
   "outputs": [
    {
     "data": {
      "text/plain": [
       "0"
      ]
     },
     "execution_count": 11,
     "metadata": {},
     "output_type": "execute_result"
    }
   ],
   "source": [
    "1800%100"
   ]
  },
  {
   "cell_type": "code",
   "execution_count": null,
   "metadata": {},
   "outputs": [],
   "source": []
  }
 ],
 "metadata": {
  "kernelspec": {
   "display_name": "Python 3",
   "language": "python",
   "name": "python3"
  },
  "language_info": {
   "codemirror_mode": {
    "name": "ipython",
    "version": 3
   },
   "file_extension": ".py",
   "mimetype": "text/x-python",
   "name": "python",
   "nbconvert_exporter": "python",
   "pygments_lexer": "ipython3",
   "version": "3.7.7"
  }
 },
 "nbformat": 4,
 "nbformat_minor": 4
}
