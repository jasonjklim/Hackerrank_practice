{
 "cells": [
  {
   "cell_type": "markdown",
   "metadata": {},
   "source": [
    "# ACM ICPC Team\n",
    "\n",
    "\n",
    "https://www.hackerrank.com/challenges/acm-icpc-team/problem"
   ]
  },
  {
   "cell_type": "markdown",
   "metadata": {},
   "source": [
    "There are a number of people who will be attending ACM-ICPC World Finals. Each of them may be well versed in a number of topics. Given a list of topics known by each attendee, you must determine the maximum number of topics a 2-person team can know. Also find out how many ways a team can be formed to know that many topics. Lists will be in the form of bit strings, where each string represents an attendee and each position in that string represents a field of knowledge, 1 if its a known field or 0 if not.\n",
    "\n",
    "For example, given three attendees' data as follows:\n",
    "\n",
    "10101\n",
    "11110\n",
    "00010\n",
    "These are all possible teams that can be formed:\n",
    "\n",
    "Members Subjects\n",
    "(1,2)   [1,2,3,4,5]\n",
    "(1,3)   [1,3,4,5]\n",
    "(2,3)   [1,2,3,4]\n",
    "In this case, the first team will know all 5 subjects. They are the only team that can be created knowing that many subjects.\n",
    "\n",
    "Function Description\n",
    "\n",
    "Complete the acmTeam function in the editor below. It should return an integer array with two elements: the maximum number of topics any team can know and the number of teams that can be formed that know that maximum number of topics.\n",
    "\n",
    "acmTeam has the following parameter(s):\n",
    "\n",
    "topic: a string of binary digits\n",
    "Input Format\n",
    "\n",
    "The first line contains two space-separated integers  and , where  represents the number of attendees and  represents the number of topics.\n",
    "\n",
    "Each of the next  lines contains a binary string of length . If the th line's th character is , then the th person knows the th topic.\n",
    "\n",
    "Constraints\n",
    "\n",
    "\n",
    "\n",
    "Output Format\n",
    "\n",
    "On the first line, print the maximum number of topics a 2-person team can know.\n",
    "On the second line, print the number of ways to form a 2-person team that knows the maximum number of topics.\n",
    "\n",
    "Sample Input\n",
    "\n",
    "4 5\n",
    "10101\n",
    "11100\n",
    "11010\n",
    "00101\n",
    "Sample Output\n",
    "\n",
    "5\n",
    "2\n",
    "Explanation\n",
    "\n",
    "Calculating topics known for all permutations of 2 attendees we get:\n",
    "\n",
    "\n",
    "\n",
    "\n",
    "\n",
    "\n",
    "\n",
    "The 2 teams (1, 3) and (3, 4) know all 5 topics which is maximal."
   ]
  },
  {
   "cell_type": "code",
   "execution_count": 20,
   "metadata": {},
   "outputs": [
    {
     "name": "stdout",
     "output_type": "stream",
     "text": [
      "21201\n",
      "[4]\n",
      "21111\n",
      "[4, 5]\n",
      "21202\n",
      "[4, 5, 4]\n",
      "22110\n",
      "[4, 5, 4, 4]\n",
      "22201\n",
      "[4, 5, 4, 4, 4]\n",
      "22111\n",
      "[4, 5, 4, 4, 4, 5]\n"
     ]
    }
   ],
   "source": [
    "lst= []\n",
    "topic = ['10101', '11100', '11010', '11101']\n",
    "for i in range(len(topic)):\n",
    "    for j in range(i+1, len(topic)):\n",
    "        #print(topic[i], topic[j])\n",
    "        x = int(topic[i]) + int(topic[j])\n",
    "        print(x)\n",
    "        # from len, subtract total \"0\", which is unknown topic, to get known topic\n",
    "        lst.append(len(str(x))-str(x).count(\"0\"))\n",
    "        # print(lst)"
   ]
  },
  {
   "cell_type": "code",
   "execution_count": 14,
   "metadata": {},
   "outputs": [
    {
     "name": "stdout",
     "output_type": "stream",
     "text": [
      "1\n",
      "1\n",
      "1\n",
      "1\n"
     ]
    }
   ],
   "source": [
    "for i in topic:\n",
    "    print(i[0][0])"
   ]
  },
  {
   "cell_type": "code",
   "execution_count": 7,
   "metadata": {},
   "outputs": [],
   "source": [
    "dic = {}\n",
    "for i in range(len(topic)-1):\n",
    "    for j in range(i+1, len(topic)):\n",
    "        dic[i,j] = 0"
   ]
  },
  {
   "cell_type": "code",
   "execution_count": 8,
   "metadata": {},
   "outputs": [
    {
     "data": {
      "text/plain": [
       "{(0, 1): 0, (0, 2): 0, (0, 3): 0, (1, 2): 0, (1, 3): 0, (2, 3): 0}"
      ]
     },
     "execution_count": 8,
     "metadata": {},
     "output_type": "execute_result"
    }
   ],
   "source": [
    "dic"
   ]
  },
  {
   "cell_type": "code",
   "execution_count": 10,
   "metadata": {},
   "outputs": [
    {
     "name": "stdout",
     "output_type": "stream",
     "text": [
      "0 1\n",
      "0 2\n",
      "0 3\n",
      "1 2\n",
      "1 3\n",
      "2 3\n"
     ]
    }
   ],
   "source": [
    "for one, two in dic.keys():\n",
    "    print(one,two)"
   ]
  },
  {
   "cell_type": "code",
   "execution_count": 16,
   "metadata": {},
   "outputs": [
    {
     "data": {
      "text/plain": [
       "'1'"
      ]
     },
     "execution_count": 16,
     "metadata": {},
     "output_type": "execute_result"
    }
   ],
   "source": [
    "topic[0][0]"
   ]
  },
  {
   "cell_type": "code",
   "execution_count": null,
   "metadata": {},
   "outputs": [],
   "source": []
  },
  {
   "cell_type": "code",
   "execution_count": 21,
   "metadata": {},
   "outputs": [],
   "source": [
    "def acmTeam(topic):\n",
    "    lst = []\n",
    "    for i in range(len(topic)):\n",
    "        for j in range(i+1, len(topic)):\n",
    "            # print(topic[i], topic[j])\n",
    "            x = int(topic[i]) + int(topic[j])\n",
    "            # print(x)\n",
    "            # from len, subtract total \"0\", which is unknown topic, to get known topic\n",
    "            lst.append(len(str(x))-str(x).count(\"0\"))\n",
    "            # print(lst)\n",
    "    return [max(lst), lst.count(max(lst))]"
   ]
  },
  {
   "cell_type": "code",
   "execution_count": null,
   "metadata": {},
   "outputs": [],
   "source": []
  }
 ],
 "metadata": {
  "kernelspec": {
   "display_name": "Python 3",
   "language": "python",
   "name": "python3"
  },
  "language_info": {
   "codemirror_mode": {
    "name": "ipython",
    "version": 3
   },
   "file_extension": ".py",
   "mimetype": "text/x-python",
   "name": "python",
   "nbconvert_exporter": "python",
   "pygments_lexer": "ipython3",
   "version": "3.7.7"
  }
 },
 "nbformat": 4,
 "nbformat_minor": 4
}
