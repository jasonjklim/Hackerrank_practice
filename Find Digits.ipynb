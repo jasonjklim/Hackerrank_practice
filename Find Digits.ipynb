{
 "cells": [
  {
   "cell_type": "markdown",
   "metadata": {},
   "source": [
    "https://www.hackerrank.com/challenges/find-digits/problem\n",
    "\n",
    "\n",
    "<br>\n",
    "\n",
    "\n",
    "An integer  is a divisor of an integer  if the remainder of .\n",
    "\n",
    "Given an integer, for each digit that makes up the integer determine whether it is a divisor. Count the number of divisors occurring within the integer.\n",
    "\n",
    "Note: Each digit is considered to be unique, so each occurrence of the same digit should be counted (e.g. for ,  is a divisor of  each time it occurs so the answer is ).\n",
    "\n",
    "Function Description\n",
    "\n",
    "Complete the findDigits function in the editor below. It should return an integer representing the number of digits of  that are divisors of .\n",
    "\n",
    "findDigits has the following parameter(s):\n",
    "\n",
    "n: an integer to analyze\n",
    "Input Format\n",
    "\n",
    "The first line is an integer, , indicating the number of test cases.\n",
    "The  subsequent lines each contain an integer, .\n",
    "\n",
    "Constraints\n",
    "\n",
    "\n",
    "\n",
    "Output Format\n",
    "\n",
    "For every test case, count the number of digits in  that are divisors of . Print each answer on a new line.\n",
    "\n",
    "Sample Input\n",
    "\n",
    "2\n",
    "12\n",
    "1012\n",
    "Sample Output\n",
    "\n",
    "2\n",
    "3\n",
    "Explanation\n",
    "\n",
    "The number  is broken into two digits,  and . When  is divided by either of those two digits, the remainder is  so they are both divisors.\n",
    "\n",
    "The number  is broken into four digits, , , , and .  is evenly divisible by its digits , , and , but it is not divisible by  as division by zero is undefined."
   ]
  },
  {
   "cell_type": "code",
   "execution_count": 10,
   "metadata": {},
   "outputs": [],
   "source": [
    "def findDigits(n):\n",
    "    \n",
    "    # 1. get each digit\n",
    "    #  a. change n to string and use for loop to create list\n",
    "    digit_list = [int(i) for i in str(n)]\n",
    "    # 2. check divible % digit == 0\n",
    "    count = 0\n",
    "    for digit in digit_list:\n",
    "        # Find the issue for zero division\n",
    "        try:\n",
    "        \n",
    "            if n % digit == 0:\n",
    "                count += 1\n",
    "        except ZeroDivisionError:\n",
    "            pass\n",
    "    # 3. count them\n",
    "    \n",
    "    return count"
   ]
  },
  {
   "cell_type": "code",
   "execution_count": 12,
   "metadata": {},
   "outputs": [
    {
     "name": "stdout",
     "output_type": "stream",
     "text": [
      "0\n",
      "0\n"
     ]
    }
   ],
   "source": [
    "n = 12\n",
    "\n",
    "digit_list = [int(i) for i in str(n)]\n",
    "\n",
    "for digit in digit_list:\n",
    "    print(n%digit)"
   ]
  },
  {
   "cell_type": "code",
   "execution_count": 13,
   "metadata": {},
   "outputs": [
    {
     "data": {
      "text/plain": [
       "3"
      ]
     },
     "execution_count": 13,
     "metadata": {},
     "output_type": "execute_result"
    }
   ],
   "source": [
    "findDigits(1012)"
   ]
  },
  {
   "cell_type": "code",
   "execution_count": null,
   "metadata": {},
   "outputs": [],
   "source": []
  }
 ],
 "metadata": {
  "kernelspec": {
   "display_name": "Python 3",
   "language": "python",
   "name": "python3"
  },
  "language_info": {
   "codemirror_mode": {
    "name": "ipython",
    "version": 3
   },
   "file_extension": ".py",
   "mimetype": "text/x-python",
   "name": "python",
   "nbconvert_exporter": "python",
   "pygments_lexer": "ipython3",
   "version": "3.7.7"
  }
 },
 "nbformat": 4,
 "nbformat_minor": 4
}
