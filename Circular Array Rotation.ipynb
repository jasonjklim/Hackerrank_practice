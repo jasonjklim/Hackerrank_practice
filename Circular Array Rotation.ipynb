{
 "cells": [
  {
   "cell_type": "markdown",
   "metadata": {},
   "source": [
    "# Circular Array Rotation\n",
    "\n",
    "https://www.hackerrank.com/challenges/circular-array-rotation/problem"
   ]
  },
  {
   "cell_type": "markdown",
   "metadata": {},
   "source": [
    "\n",
    "    \n",
    "    \n",
    "John Watson knows of an operation called a right circular rotation on an array of integers. One rotation operation moves the last array element to the first position and shifts all remaining elements right one. To test Sherlock's abilities, Watson provides Sherlock with an array of integers. Sherlock is to perform the rotation operation a number of times then determine the value of the element at a given position.\n",
    "\n",
    "For each array, perform a number of right circular rotations and return the value of the element at a given index.\n",
    "\n",
    "For example, array , number of rotations,  and indices to check, .\n",
    "First we perform the two rotations:\n",
    "\n",
    "Now return the values from the zero-based indices  and  as indicated in the  array.\n",
    "\n",
    "\n",
    "Function Description\n",
    "\n",
    "Complete the circularArrayRotation function in the editor below. It should return an array of integers representing the values at the specified indices.\n",
    "\n",
    "circularArrayRotation has the following parameter(s):\n",
    "\n",
    "a: an array of integers to rotate\n",
    "k: an integer, the rotation count\n",
    "queries: an array of integers, the indices to report\n",
    "Input Format\n",
    "\n",
    "The first line contains  space-separated integers, , , and , the number of elements in the integer array, the rotation count and the number of queries.\n",
    "The second line contains  space-separated integers, where each integer  describes array element  (where ).\n",
    "Each of the  subsequent lines contains a single integer denoting , the index of the element to return from .\n",
    "\n",
    "Constraints\n",
    "\n",
    "Output Format\n",
    "\n",
    "For each query, print the value of the element at index  of the rotated array on a new line.\n",
    "\n",
    "Sample Input 0\n",
    "\n",
    "3 2 3\n",
    "1 2 3\n",
    "0\n",
    "1\n",
    "2\n",
    "Sample Output 0\n",
    "\n",
    "2\n",
    "3\n",
    "1\n",
    "Explanation 0\n",
    "\n",
    "After the first rotation, the array becomes .\n",
    "After the second (and final) rotation, the array becomes .\n",
    "\n",
    "Let's refer to the array's final state as array . For each query, we just have to print the value of  on a new line:\n",
    "\n",
    ", .\n",
    ", .\n",
    ", ."
   ]
  },
  {
   "cell_type": "code",
   "execution_count": 18,
   "metadata": {},
   "outputs": [],
   "source": [
    "# Complete the circularArrayRotation function below.\n",
    "\n",
    "# with library\n",
    "from collections import deque\n",
    "def circularArrayRotation(a, k, queries):\n",
    "    new_list = deque(a)\n",
    "    new_list.rotate(k)\n",
    "    \n",
    "    return [new_list[ind] for ind in queries]\n"
   ]
  },
  {
   "cell_type": "code",
   "execution_count": 19,
   "metadata": {},
   "outputs": [
    {
     "data": {
      "text/plain": [
       "[2, 3, 1]"
      ]
     },
     "execution_count": 19,
     "metadata": {},
     "output_type": "execute_result"
    }
   ],
   "source": [
    "a = [1,2,3]\n",
    "k = 2\n",
    "queries = [0,1,2]\n",
    "\n",
    "circularArrayRotation(a,k,queries)"
   ]
  },
  {
   "cell_type": "code",
   "execution_count": null,
   "metadata": {},
   "outputs": [],
   "source": []
  }
 ],
 "metadata": {
  "kernelspec": {
   "display_name": "Python 3",
   "language": "python",
   "name": "python3"
  },
  "language_info": {
   "codemirror_mode": {
    "name": "ipython",
    "version": 3
   },
   "file_extension": ".py",
   "mimetype": "text/x-python",
   "name": "python",
   "nbconvert_exporter": "python",
   "pygments_lexer": "ipython3",
   "version": "3.7.7"
  }
 },
 "nbformat": 4,
 "nbformat_minor": 4
}
