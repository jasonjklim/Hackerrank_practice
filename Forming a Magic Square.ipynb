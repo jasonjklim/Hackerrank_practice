{
 "cells": [
  {
   "cell_type": "markdown",
   "metadata": {},
   "source": [
    "# Forming a Magic Square\n",
    "\n",
    "https://www.hackerrank.com/challenges/magic-square-forming/problem"
   ]
  },
  {
   "cell_type": "markdown",
   "metadata": {},
   "source": [
    "We define a magic square to be an  matrix of distinct positive integers from  to  where the sum of any row, column, or diagonal of length  is always equal to the same number: the magic constant.\n",
    "\n",
    "You will be given a  matrix  of integers in the inclusive range . We can convert any digit  to any other digit  in the range  at cost of . Given , convert it into a magic square at minimal cost. Print this cost on a new line.\n",
    "\n",
    "Note: The resulting magic square must contain distinct integers in the inclusive range .\n",
    "\n",
    "Example\n",
    "\n",
    "$s = [[5, 3, 4], [1, 5, 8], [6, 4, 2]]\n",
    "\n",
    "The matrix looks like this:\n",
    "\n",
    "5 3 4\n",
    "1 5 8\n",
    "6 4 2\n",
    "We can convert it to the following magic square:\n",
    "\n",
    "8 3 4\n",
    "1 5 9\n",
    "6 7 2\n",
    "This took three replacements at a cost of .\n",
    "\n",
    "Function Description\n",
    "\n",
    "Complete the formingMagicSquare function in the editor below.\n",
    "\n",
    "formingMagicSquare has the following parameter(s):\n",
    "\n",
    "int s[3][3]: a  array of integers\n",
    "Returns\n",
    "\n",
    "int: the minimal total cost of converting the input square to a magic square\n",
    "Input Format\n",
    "\n",
    "Each of the  lines contains three space-separated integers of row .\n",
    "\n",
    "Constraints\n",
    "\n",
    "Sample Input 0\n",
    "\n",
    "4 9 2\n",
    "3 5 7\n",
    "8 1 5\n",
    "Sample Output 0\n",
    "\n",
    "1\n",
    "Explanation 0\n",
    "\n",
    "If we change the bottom right value, , from  to  at a cost of ,  becomes a magic square at the minimum possible cost."
   ]
  },
  {
   "cell_type": "code",
   "execution_count": 1,
   "metadata": {},
   "outputs": [],
   "source": [
    "s = [[5, 3, 4], [1, 5, 8], [6, 4, 2]]"
   ]
  },
  {
   "cell_type": "code",
   "execution_count": 19,
   "metadata": {},
   "outputs": [],
   "source": [
    "def formingMagicSquare(s):\n",
    "# all direction's sum have to be 15\n",
    "    # 1. get seed and sqaures\n",
    "    seed = [[2, 9, 4], [7, 5, 3], [6, 1, 8]]\n",
    "    seeds = [seed]\n",
    "    # transpose\n",
    "    seeds.append([list(t) for t in list(zip(*seed))])\n",
    "    squares = []\n",
    "\n",
    "    for square in seeds:\n",
    "        squares.append(square)\n",
    "    # mirror top down\n",
    "        squares.append(square[::-1])\n",
    "    # mirror left right\n",
    "        squares.append([l[::-1] for l in square])\n",
    "    # mirror + mirror(transpose + transpose)\n",
    "        squares.append([l[::-1] for l in reversed(square)])\n",
    "    \n",
    "    \n",
    "    minimum = min( sum( sum(abs(c1-c2) for c1, c2 in zip(r1, r2)) for r1, r2 in zip(square, s) ) for square in squares)\n",
    "    return minimum"
   ]
  },
  {
   "cell_type": "code",
   "execution_count": 20,
   "metadata": {},
   "outputs": [
    {
     "data": {
      "text/plain": [
       "7"
      ]
     },
     "execution_count": 20,
     "metadata": {},
     "output_type": "execute_result"
    }
   ],
   "source": [
    "formingMagicSquare(s)"
   ]
  },
  {
   "cell_type": "code",
   "execution_count": 9,
   "metadata": {},
   "outputs": [],
   "source": [
    "\n",
    "\n"
   ]
  },
  {
   "cell_type": "code",
   "execution_count": 10,
   "metadata": {},
   "outputs": [
    {
     "data": {
      "text/plain": [
       "[[[2, 9, 4], [7, 5, 3], [6, 1, 8]], [[2, 7, 6], [9, 5, 1], [4, 3, 8]]]"
      ]
     },
     "execution_count": 10,
     "metadata": {},
     "output_type": "execute_result"
    }
   ],
   "source": [
    "seeds"
   ]
  },
  {
   "cell_type": "code",
   "execution_count": 11,
   "metadata": {},
   "outputs": [],
   "source": [
    "squares = []\n",
    "\n",
    "for square in seeds:\n",
    "    squares.append(square)\n",
    "    # mirror top down\n",
    "    squares.append(square[::-1])\n",
    "    # mirror left right\n",
    "    squares.append([l[::-1] for l in square])\n",
    "    # mirror + mirror(transpose + transpose)\n",
    "    squares.append([l[::-1] for l in reversed(square)])\n",
    "\n"
   ]
  },
  {
   "cell_type": "code",
   "execution_count": 12,
   "metadata": {},
   "outputs": [
    {
     "data": {
      "text/plain": [
       "[[[2, 9, 4], [7, 5, 3], [6, 1, 8]],\n",
       " [[6, 1, 8], [7, 5, 3], [2, 9, 4]],\n",
       " [[4, 9, 2], [3, 5, 7], [8, 1, 6]],\n",
       " [[8, 1, 6], [3, 5, 7], [4, 9, 2]],\n",
       " [[2, 7, 6], [9, 5, 1], [4, 3, 8]],\n",
       " [[4, 3, 8], [9, 5, 1], [2, 7, 6]],\n",
       " [[6, 7, 2], [1, 5, 9], [8, 3, 4]],\n",
       " [[8, 3, 4], [1, 5, 9], [6, 7, 2]]]"
      ]
     },
     "execution_count": 12,
     "metadata": {},
     "output_type": "execute_result"
    }
   ],
   "source": [
    "squares"
   ]
  },
  {
   "cell_type": "code",
   "execution_count": 15,
   "metadata": {},
   "outputs": [
    {
     "name": "stdout",
     "output_type": "stream",
     "text": [
      "5 3 4\n",
      "1 5 8\n",
      "6 4 2\n"
     ]
    }
   ],
   "source": [
    "    \n",
    "s = []\n",
    "for s_i in range(3):\n",
    "    s_t = [int(s_temp) for s_temp in input().strip().split(' ')]\n",
    "    s.append(s_t)\n",
    "    #  Print the minimum cost of converting 's' into a magic square\n",
    "\n"
   ]
  },
  {
   "cell_type": "code",
   "execution_count": 16,
   "metadata": {},
   "outputs": [
    {
     "data": {
      "text/plain": [
       "[[5, 3, 4], [1, 5, 8], [6, 4, 2]]"
      ]
     },
     "execution_count": 16,
     "metadata": {},
     "output_type": "execute_result"
    }
   ],
   "source": [
    "s"
   ]
  },
  {
   "cell_type": "code",
   "execution_count": 18,
   "metadata": {},
   "outputs": [
    {
     "name": "stdout",
     "output_type": "stream",
     "text": [
      "2 5\n",
      "9 3\n",
      "4 4\n",
      "7 1\n",
      "5 5\n",
      "3 8\n",
      "6 6\n",
      "1 4\n",
      "8 2\n",
      "6 5\n",
      "1 3\n",
      "8 4\n",
      "7 1\n",
      "5 5\n",
      "3 8\n",
      "2 6\n",
      "9 4\n",
      "4 2\n",
      "4 5\n",
      "9 3\n",
      "2 4\n",
      "3 1\n",
      "5 5\n",
      "7 8\n",
      "8 6\n",
      "1 4\n",
      "6 2\n",
      "8 5\n",
      "1 3\n",
      "6 4\n",
      "3 1\n",
      "5 5\n",
      "7 8\n",
      "4 6\n",
      "9 4\n",
      "2 2\n",
      "2 5\n",
      "7 3\n",
      "6 4\n",
      "9 1\n",
      "5 5\n",
      "1 8\n",
      "4 6\n",
      "3 4\n",
      "8 2\n",
      "4 5\n",
      "3 3\n",
      "8 4\n",
      "9 1\n",
      "5 5\n",
      "1 8\n",
      "2 6\n",
      "7 4\n",
      "6 2\n",
      "6 5\n",
      "7 3\n",
      "2 4\n",
      "1 1\n",
      "5 5\n",
      "9 8\n",
      "8 6\n",
      "3 4\n",
      "4 2\n",
      "8 5\n",
      "3 3\n",
      "4 4\n",
      "1 1\n",
      "5 5\n",
      "9 8\n",
      "6 6\n",
      "7 4\n",
      "2 2\n"
     ]
    }
   ],
   "source": [
    "for square in squares:\n",
    "    for r1, r2 in zip(square, s):\n",
    "        for c1, c2 in zip(r1, r2):\n",
    "            print(c1, c2)"
   ]
  },
  {
   "cell_type": "code",
   "execution_count": null,
   "metadata": {},
   "outputs": [],
   "source": [
    "minimum = min( sum( sum(abs(c1-c2) for c1, c2 in zip(r1, r2)) for r1, r2 in zip(square, s) ) for square in squares)"
   ]
  }
 ],
 "metadata": {
  "kernelspec": {
   "display_name": "Python 3",
   "language": "python",
   "name": "python3"
  },
  "language_info": {
   "codemirror_mode": {
    "name": "ipython",
    "version": 3
   },
   "file_extension": ".py",
   "mimetype": "text/x-python",
   "name": "python",
   "nbconvert_exporter": "python",
   "pygments_lexer": "ipython3",
   "version": "3.7.7"
  }
 },
 "nbformat": 4,
 "nbformat_minor": 4
}
