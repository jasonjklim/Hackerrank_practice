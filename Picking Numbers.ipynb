{
 "cells": [
  {
   "cell_type": "markdown",
   "metadata": {},
   "source": [
    "# Picking Numbers\n",
    "\n",
    "https://www.hackerrank.com/challenges/picking-numbers/problem"
   ]
  },
  {
   "cell_type": "markdown",
   "metadata": {},
   "source": [
    "Given an array of integers, find the longest subarray where the absolute difference between any two elements is less than or equal to .\n",
    "\n",
    "Example\n",
    "\n",
    "\n",
    "There are two subarrays meeting the criterion:  and . The maximum length subarray has  elements.\n",
    "\n",
    "Function Description\n",
    "\n",
    "Complete the pickingNumbers function in the editor below.\n",
    "\n",
    "pickingNumbers has the following parameter(s):\n",
    "\n",
    "int a[n]: an array of integers\n",
    "Returns\n",
    "\n",
    "int: the length of the longest subarray that meets the criterion\n",
    "Input Format\n",
    "\n",
    "The first line contains a single integer , the size of the array .\n",
    "The second line contains  space-separated integers, each an .\n",
    "\n",
    "Constraints\n",
    "\n",
    "The answer will be .\n",
    "Sample Input 0\n",
    "\n",
    "6\n",
    "4 6 5 3 3 1\n",
    "Sample Output 0\n",
    "\n",
    "3\n",
    "Explanation 0\n",
    "\n",
    "We choose the following multiset of integers from the array: . Each pair in the multiset has an absolute difference  (i.e.,  and ), so we print the number of chosen integers, , as our answer.\n",
    "\n",
    "Sample Input 1\n",
    "\n",
    "6\n",
    "1 2 2 3 1 2\n",
    "Sample Output 1\n",
    "\n",
    "5\n",
    "Explanation 1\n",
    "\n",
    "We choose the following multiset of integers from the array: . Each pair in the multiset has an absolute difference  (i.e., , , and ), so we print the number of chosen integers, , as our answer."
   ]
  },
  {
   "cell_type": "code",
   "execution_count": 10,
   "metadata": {},
   "outputs": [],
   "source": [
    "def pickingNumbers(a):\n",
    "    # Write your code here\n",
    "    \n",
    "    # 1. count first number\n",
    "    # 2. count first number -1\n",
    "    # 3. check the maximum \n",
    "    maximum = 0\n",
    "    for i in a:\n",
    "        c=a.count(i)\n",
    "        #print(c)\n",
    "        d=a.count(i-1)\n",
    "        #print(d)\n",
    "        c=c+d\n",
    "        if c > maximum:\n",
    "            maximum=c\n",
    "    return maximum\n"
   ]
  },
  {
   "cell_type": "code",
   "execution_count": 11,
   "metadata": {},
   "outputs": [
    {
     "data": {
      "text/plain": [
       "5"
      ]
     },
     "execution_count": 11,
     "metadata": {},
     "output_type": "execute_result"
    }
   ],
   "source": [
    "a = [1,2,2,3,1,2]\n",
    "\n",
    "pickingNumbers(a)"
   ]
  },
  {
   "cell_type": "code",
   "execution_count": 9,
   "metadata": {},
   "outputs": [
    {
     "name": "stdout",
     "output_type": "stream",
     "text": [
      "5\n"
     ]
    }
   ],
   "source": [
    "l = [1,2,2,3,1,2]\n",
    "maximum = 0\n",
    "for i in l:\n",
    "    c=l.count(i)\n",
    "    #print(c)\n",
    "    d=l.count(i-1)\n",
    "    #print(d)\n",
    "    c=c+d\n",
    "    if c > maximum:\n",
    "        maximum=c\n",
    "print(maximum)"
   ]
  },
  {
   "cell_type": "code",
   "execution_count": null,
   "metadata": {},
   "outputs": [],
   "source": []
  }
 ],
 "metadata": {
  "kernelspec": {
   "display_name": "Python 3",
   "language": "python",
   "name": "python3"
  },
  "language_info": {
   "codemirror_mode": {
    "name": "ipython",
    "version": 3
   },
   "file_extension": ".py",
   "mimetype": "text/x-python",
   "name": "python",
   "nbconvert_exporter": "python",
   "pygments_lexer": "ipython3",
   "version": "3.7.7"
  }
 },
 "nbformat": 4,
 "nbformat_minor": 4
}
