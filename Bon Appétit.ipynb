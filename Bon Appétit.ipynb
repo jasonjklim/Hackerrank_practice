{
 "cells": [
  {
   "cell_type": "markdown",
   "metadata": {},
   "source": [
    "Anna and Brian are sharing a meal at a restuarant and they agree to split the bill equally. Brian wants to order something that Anna is allergic to though, and they agree that Anna won't pay for that item. Brian gets the check and calculates Anna's portion. You must determine if his calculation is correct.\n",
    "\n",
    "For example, assume the bill has the following prices: . Anna declines to eat item  which costs . If Brian calculates the bill correctly, Anna will pay . If he includes the cost of , he will calculate . In the second case, he should refund  to Anna.\n",
    "\n",
    "Function Description\n",
    "\n",
    "Complete the bonAppetit function in the editor below. It should print Bon Appetit if the bill is fairly split. Otherwise, it should print the integer amount of money that Brian owes Anna.\n",
    "\n",
    "bonAppetit has the following parameter(s):\n",
    "\n",
    "bill: an array of integers representing the cost of each item ordered\n",
    "k: an integer representing the zero-based index of the item Anna doesn't eat\n",
    "b: the amount of money that Anna contributed to the bill\n",
    "Input Format\n",
    "\n",
    "The first line contains two space-separated integers  and , the number of items ordered and the -based index of the item that Anna did not eat.\n",
    "The second line contains  space-separated integers  where .\n",
    "The third line contains an integer, , the amount of money that Brian charged Anna for her share of the bill.\n",
    "\n",
    "Constraints\n",
    "\n",
    "The amount of money due Anna will always be an integer\n",
    "Output Format\n",
    "\n",
    "If Brian did not overcharge Anna, print Bon Appetit on a new line; otherwise, print the difference (i.e., ) that Brian must refund to Anna. This will always be an integer.\n",
    "\n",
    "Sample Input 0\n",
    "\n",
    "4 1\n",
    "3 10 2 9\n",
    "12\n",
    "Sample Output 0\n",
    "\n",
    "5"
   ]
  },
  {
   "cell_type": "code",
   "execution_count": 10,
   "metadata": {},
   "outputs": [],
   "source": [
    "def bonAppetit(bill, k, b):\n",
    "    # 1. check b is right for Anna.\n",
    "    # bill is array\n",
    "    # k is index of omit item\n",
    "    # b is final amount\n",
    "    \n",
    "    # using pop, remove bill[k]\n",
    "    bill.pop(k)\n",
    "        # 2a. if it's right, return 'bon appetit'\n",
    "    if sum(bill)/2 == b:\n",
    "        return 'Bon Appetit'\n",
    "        # 2b. if iti's wrong, calculate refund amount\n",
    "    else:\n",
    "        return int(b - sum(bill)/2)\n",
    "    \n",
    "\n"
   ]
  },
  {
   "cell_type": "code",
   "execution_count": 11,
   "metadata": {},
   "outputs": [
    {
     "data": {
      "text/plain": [
       "5"
      ]
     },
     "execution_count": 11,
     "metadata": {},
     "output_type": "execute_result"
    }
   ],
   "source": [
    "bill = [3,10,2,9]\n",
    "k = 1\n",
    "b = 12\n",
    "\n",
    "bonAppetit(bill,k,b)"
   ]
  },
  {
   "cell_type": "code",
   "execution_count": null,
   "metadata": {},
   "outputs": [],
   "source": []
  }
 ],
 "metadata": {
  "kernelspec": {
   "display_name": "Python 3",
   "language": "python",
   "name": "python3"
  },
  "language_info": {
   "codemirror_mode": {
    "name": "ipython",
    "version": 3
   },
   "file_extension": ".py",
   "mimetype": "text/x-python",
   "name": "python",
   "nbconvert_exporter": "python",
   "pygments_lexer": "ipython3",
   "version": "3.7.7"
  }
 },
 "nbformat": 4,
 "nbformat_minor": 4
}
