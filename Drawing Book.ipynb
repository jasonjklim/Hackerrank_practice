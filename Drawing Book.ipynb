{
 "cells": [
  {
   "cell_type": "markdown",
   "metadata": {},
   "source": [
    "# Drawing Book\n",
    "\n",
    "https://www.hackerrank.com/challenges/drawing-book/problem"
   ]
  },
  {
   "cell_type": "markdown",
   "metadata": {},
   "source": [
    "A teacher asks the class to open their books to a page number. A student can either start turning pages from the front of the book or from the back of the book. They always turn pages one at a time. When they open the book, page  is always on the right side:\n",
    "\n",
    "image\n",
    "\n",
    "When they flip page , they see pages  and . Each page except the last page will always be printed on both sides. The last page may only be printed on the front, given the length of the book. If the book is  pages long, and a student wants to turn to page , what is the minimum number of pages to turn? They can start at the beginning or the end of the book.\n",
    "\n",
    "Given  and , find and print the minimum number of pages that must be turned in order to arrive at page .\n",
    "\n",
    "Example\n",
    "\n",
    "\n",
    "\n",
    "Untitled Diagram(4).png\n",
    "\n",
    "Using the diagram above, if the student wants to get to page , they open the book to page , flip  page and they are on the correct page. If they open the book to the last page, page , they turn  page and are at the correct page. Return .\n",
    "\n",
    "Function Description\n",
    "\n",
    "Complete the pageCount function in the editor below.\n",
    "\n",
    "pageCount has the following parameter(s):\n",
    "\n",
    "int n: the number of pages in the book\n",
    "int p: the page number to turn to\n",
    "Returns\n",
    "\n",
    "int: the minimum number of pages to turn\n",
    "Input Format\n",
    "\n",
    "The first line contains an integer , the number of pages in the book.\n",
    "The second line contains an integer, , the page to turn to.\n",
    "\n",
    "Constraints\n",
    "\n",
    "Sample Input 0\n",
    "\n",
    "6\n",
    "2\n",
    "Sample Output 0\n",
    "\n",
    "1"
   ]
  },
  {
   "cell_type": "code",
   "execution_count": 8,
   "metadata": {},
   "outputs": [],
   "source": [
    "def pageCount(n, p):\n",
    "    #\n",
    "    # Write your code here.\n",
    "    # 1. check n and p to see which is closer, use min function\n",
    "    p_d = min(p//2, n//2-p//2)\n",
    "    # 2. // 2 to see \n",
    "    #print(p_d)\n",
    "    return p_d"
   ]
  },
  {
   "cell_type": "code",
   "execution_count": 9,
   "metadata": {},
   "outputs": [
    {
     "data": {
      "text/plain": [
       "0"
      ]
     },
     "execution_count": 9,
     "metadata": {},
     "output_type": "execute_result"
    }
   ],
   "source": [
    "pageCount(5,4)"
   ]
  },
  {
   "cell_type": "code",
   "execution_count": null,
   "metadata": {},
   "outputs": [],
   "source": []
  }
 ],
 "metadata": {
  "kernelspec": {
   "display_name": "Python 3",
   "language": "python",
   "name": "python3"
  },
  "language_info": {
   "codemirror_mode": {
    "name": "ipython",
    "version": 3
   },
   "file_extension": ".py",
   "mimetype": "text/x-python",
   "name": "python",
   "nbconvert_exporter": "python",
   "pygments_lexer": "ipython3",
   "version": "3.7.7"
  }
 },
 "nbformat": 4,
 "nbformat_minor": 4
}
