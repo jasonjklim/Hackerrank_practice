{
 "cells": [
  {
   "cell_type": "markdown",
   "metadata": {},
   "source": [
    "You have been asked to help study the population of birds migrating across the continent. Each type of bird you are interested in will be identified by an integer value. Each time a particular kind of bird is spotted, its id number will be added to your array of sightings. You would like to be able to find out which type of bird is most common given a list of sightings. Your task is to print the type number of that bird and if two or more types of birds are equally common, choose the type with the smallest ID number.\n",
    "\n",
    "For example, assume your bird sightings are of types . There are two each of types  and , and one sighting of type . Pick the lower of the two types seen twice: type .\n",
    "\n",
    "Function Description\n",
    "\n",
    "Complete the migratoryBirds function in the editor below. It should return the lowest type number of the most frequently sighted bird.\n",
    "\n",
    "migratoryBirds has the following parameter(s):\n",
    "\n",
    "arr: an array of integers representing types of birds sighted\n",
    "Input Format\n",
    "\n",
    "The first line contains an integer denoting , the number of birds sighted and reported in the array .\n",
    "The second line describes  as  space-separated integers representing the type numbers of each bird sighted.\n",
    "\n",
    "Constraints\n",
    "\n",
    "It is guaranteed that each type is , , , , or .\n",
    "Output Format\n",
    "\n",
    "Print the type number of the most common bird; if two or more types of birds are equally common, choose the type with the smallest ID number.\n",
    "\n",
    "Sample Input 0\n",
    "\n",
    "6\n",
    "1 4 4 4 5 3\n",
    "Sample Output 0\n",
    "\n",
    "4"
   ]
  },
  {
   "cell_type": "code",
   "execution_count": 22,
   "metadata": {},
   "outputs": [],
   "source": [
    "# Complete the migratoryBirds function below.\n",
    "def migratoryBirds(arr):\n",
    "    from collections import Counter\n",
    "    count_bird = Counter(arr)\n",
    "    c_b = sorted(count_bird, key=count_bird.get, reverse=True)\n",
    "    return c_b[0]"
   ]
  },
  {
   "cell_type": "code",
   "execution_count": 16,
   "metadata": {},
   "outputs": [
    {
     "data": {
      "text/plain": [
       "4"
      ]
     },
     "execution_count": 16,
     "metadata": {},
     "output_type": "execute_result"
    }
   ],
   "source": [
    "arr= [6,1,4,4,4,5,3]\n",
    "migratoryBirds(arr)"
   ]
  },
  {
   "cell_type": "code",
   "execution_count": 23,
   "metadata": {},
   "outputs": [
    {
     "data": {
      "text/plain": [
       "3"
      ]
     },
     "execution_count": 23,
     "metadata": {},
     "output_type": "execute_result"
    }
   ],
   "source": [
    "arr = [1,2,3,4,5,4,3,2,1,3,4]\n",
    "migratoryBirds(arr)"
   ]
  },
  {
   "cell_type": "code",
   "execution_count": null,
   "metadata": {},
   "outputs": [],
   "source": [
    "# better solution\n",
    "\n",
    "def migratoryBirds(arr):\n",
    "    data = {} \n",
    "    for id in set(arr):\n",
    "        data[id] = arr.count(id)\n",
    "\n",
    "    return max(data,key=(lambda x: data[x]))"
   ]
  }
 ],
 "metadata": {
  "kernelspec": {
   "display_name": "Python 3",
   "language": "python",
   "name": "python3"
  },
  "language_info": {
   "codemirror_mode": {
    "name": "ipython",
    "version": 3
   },
   "file_extension": ".py",
   "mimetype": "text/x-python",
   "name": "python",
   "nbconvert_exporter": "python",
   "pygments_lexer": "ipython3",
   "version": "3.7.7"
  }
 },
 "nbformat": 4,
 "nbformat_minor": 4
}
