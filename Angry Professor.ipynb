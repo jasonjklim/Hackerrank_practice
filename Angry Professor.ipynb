{
 "cells": [
  {
   "cell_type": "markdown",
   "metadata": {},
   "source": [
    "https://www.hackerrank.com/challenges/angry-professor/problem?h_r=next-challenge&h_v=zen<br>\n",
    "\n",
    "A Discrete Mathematics professor has a class of students. Frustrated with their lack of discipline, he decides to cancel class if fewer than some number of students are present when class starts. Arrival times go from on time () to arrived late ().\n",
    "\n",
    "Given the arrival time of each student and a threshhold number of attendees, determine if the class is canceled.\n",
    "\n",
    "Input Format\n",
    "\n",
    "The first line of input contains , the number of test cases.\n",
    "\n",
    "Each test case consists of two lines.\n",
    "\n",
    "The first line has two space-separated integers,  and , the number of students (size of ) and the cancellation threshold.\n",
    "The second line contains  space-separated integers () describing the arrival times for each student.\n",
    "\n",
    "Note: Non-positive arrival times () indicate the student arrived early or on time; positive arrival times () indicate the student arrived  minutes late.\n",
    "\n",
    "For example, there are  students who arrive at times . Four are there on time, and two arrive late. If there must be  for class to go on, in this case the class will continue. If there must be , then class is cancelled.\n",
    "\n",
    "Function Description\n",
    "\n",
    "Complete the angryProfessor function in the editor below. It must return YES if class is cancelled, or NO otherwise.\n",
    "\n",
    "angryProfessor has the following parameter(s):\n",
    "\n",
    "k: the threshold number of students\n",
    "a: an array of integers representing arrival times\n",
    "Constraints\n",
    "\n",
    "Output Format\n",
    "\n",
    "For each test case, print the word YES if the class is canceled or NO if it is not.\n",
    "\n",
    "Note\n",
    "If a student arrives exactly on time , the student is considered to have entered before the class started.\n",
    "\n",
    "Sample Input\n",
    "\n",
    "2\n",
    "4 3\n",
    "-1 -3 4 2\n",
    "4 2\n",
    "0 -1 2 1\n",
    "Sample Output\n",
    "\n",
    "YES\n",
    "NO\n",
    "\n"
   ]
  },
  {
   "cell_type": "code",
   "execution_count": 1,
   "metadata": {},
   "outputs": [],
   "source": [
    "# Complete the angryProfessor function below.\n",
    "def angryProfessor(k, a):\n",
    "    \n",
    "    # 1. check number is less or equal to zero from array == student on time\n",
    "    # 2. check total number student on time is bigger or equal to k\n",
    "    # 3. return yes or no\n",
    "    \n",
    "    on_time = [i for i in a if i <= 0]\n",
    "\n",
    "\n",
    "    if len(on_time) >= k:\n",
    "        return \"NO\"\n",
    "    else:\n",
    "        return 'YES'"
   ]
  },
  {
   "cell_type": "code",
   "execution_count": 2,
   "metadata": {},
   "outputs": [],
   "source": [
    "k = 3\n",
    "a = [-1, -3, 4, 2]\n"
   ]
  },
  {
   "cell_type": "code",
   "execution_count": 4,
   "metadata": {},
   "outputs": [
    {
     "name": "stdout",
     "output_type": "stream",
     "text": [
      "NO\n"
     ]
    }
   ],
   "source": [
    "on_time = [i for i in a if i <= 0]\n",
    "on_time\n",
    "\n",
    "if len(on_time) <= k:\n",
    "    print(\"NO\")\n",
    "else:\n",
    "    print(\"YES\")"
   ]
  },
  {
   "cell_type": "code",
   "execution_count": null,
   "metadata": {},
   "outputs": [],
   "source": []
  }
 ],
 "metadata": {
  "kernelspec": {
   "display_name": "Python 3",
   "language": "python",
   "name": "python3"
  },
  "language_info": {
   "codemirror_mode": {
    "name": "ipython",
    "version": 3
   },
   "file_extension": ".py",
   "mimetype": "text/x-python",
   "name": "python",
   "nbconvert_exporter": "python",
   "pygments_lexer": "ipython3",
   "version": "3.7.7"
  }
 },
 "nbformat": 4,
 "nbformat_minor": 4
}
