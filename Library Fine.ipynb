{
 "cells": [
  {
   "cell_type": "markdown",
   "metadata": {},
   "source": [
    "# Library Fine\n",
    "\n",
    "https://www.hackerrank.com/challenges/library-fine/problem?h_r=next-challenge&h_v=zen"
   ]
  },
  {
   "cell_type": "markdown",
   "metadata": {},
   "source": [
    "Your local library needs your help! Given the expected and actual return dates for a library book, create a program that calculates the fine (if any). The fee structure is as follows:\n",
    "\n",
    "If the book is returned on or before the expected return date, no fine will be charged (i.e.: .\n",
    "If the book is returned after the expected return day but still within the same calendar month and year as the expected return date, .\n",
    "If the book is returned after the expected return month but still within the same calendar year as the expected return date, the .\n",
    "If the book is returned after the calendar year in which it was expected, there is a fixed fine of .\n",
    "Charges are based only on the least precise measure of lateness. For example, whether a book is due January 1, 2017 or December 31, 2017, if it is returned January 1, 2018, that is a year late and the fine would be .\n",
    "\n",
    "Function Description\n",
    "\n",
    "Complete the libraryFine function in the editor below. It must return an integer representing the fine due.\n",
    "\n",
    "libraryFine has the following parameter(s):\n",
    "\n",
    "d1, m1, y1: returned date day, month and year\n",
    "d2, m2, y2: due date day, month and year\n",
    "Input Format\n",
    "\n",
    "The first line contains  space-separated integers, , denoting the respective , , and  on which the book was returned.\n",
    "The second line contains  space-separated integers, , denoting the respective , , and  on which the book was due to be returned.\n",
    "\n",
    "Constraints\n",
    "\n",
    "Output Format\n",
    "\n",
    "Print a single integer denoting the library fine for the book received as input.\n",
    "\n",
    "Sample Input\n",
    "\n",
    "9 6 2015\n",
    "6 6 2015\n",
    "Sample Output\n",
    "\n",
    "45\n",
    "Explanation\n",
    "\n",
    "Given the following dates:\n",
    "Returned: \n",
    "Due: \n",
    "\n",
    "Because , we know it is less than a year late.\n",
    "Because , we know it's less than a month late.\n",
    "Because , we know that it was returned late (but still within the same month and year).\n",
    "\n",
    "Per the library's fee structure, we know that our fine will be . We then print the result of  as our output."
   ]
  },
  {
   "cell_type": "code",
   "execution_count": 58,
   "metadata": {},
   "outputs": [],
   "source": [
    "from datetime import date\n",
    "\n",
    "\n",
    "# Complete the libraryFine function below.\n",
    "def libraryFine(d1, m1, y1, d2, m2, y2):\n",
    "\n",
    "# 1 is returned date and 2 is due date\n",
    "    fine = 0\n",
    "# if year is different, all fine would be 10000.\n",
    "    returned_date = date(y1, m1, d1)\n",
    "    due_date = date(y2,m2,d2)\n",
    "    if due_date > returned_date:\n",
    "        fine = 0\n",
    "    else:\n",
    "        if y1 > y2:\n",
    "            fine = 10000\n",
    "    # return after due date and same month \n",
    "        elif m1 == m2:\n",
    "            fine = (returned_date-due_date).days * 15\n",
    "# is same, but different months\n",
    "        elif m1 > m2:\n",
    "            fine = (m1-m2)*500\n",
    "\n",
    "    return fine\n"
   ]
  },
  {
   "cell_type": "code",
   "execution_count": 42,
   "metadata": {},
   "outputs": [
    {
     "data": {
      "text/plain": [
       "45"
      ]
     },
     "execution_count": 42,
     "metadata": {},
     "output_type": "execute_result"
    }
   ],
   "source": [
    "y2 = 2015\n",
    "y1 = 2015\n",
    "d1= 9\n",
    "d2 = 6\n",
    "m1= 6\n",
    "m2 = 6\n",
    "\n",
    "libraryFine(d1, m1, y1, d2, m2, y2)\n"
   ]
  },
  {
   "cell_type": "code",
   "execution_count": 55,
   "metadata": {},
   "outputs": [
    {
     "data": {
      "text/plain": [
       "1500"
      ]
     },
     "execution_count": 55,
     "metadata": {},
     "output_type": "execute_result"
    }
   ],
   "source": [
    "from datetime import date\n",
    "from calendar import monthrange\n",
    "# 1 is returned date and 2 is due date\n",
    "fine = 0\n",
    "# if year is different, all fine would be 10000.\n",
    "returned_date = date(y1, m1, d1)\n",
    "due_date = date(y2,m2,d2)\n",
    "if due_date > returned_date:\n",
    "    fine = 0\n",
    "else:\n",
    "    if y1 > y2:\n",
    "        fine = 10000\n",
    "    # return after due date and same month \n",
    "    elif m1 == m2:\n",
    "        fine = (yy1-yy2).days * 15\n",
    "# is same, but different months\n",
    "    elif m1 > m2:\n",
    "        \n",
    "\n",
    "        \n",
    "        fine = (m1-m2)*500\n",
    "\n",
    "        \n",
    "fine"
   ]
  },
  {
   "cell_type": "code",
   "execution_count": 21,
   "metadata": {},
   "outputs": [
    {
     "data": {
      "text/plain": [
       "datetime.timedelta(days=3)"
      ]
     },
     "execution_count": 21,
     "metadata": {},
     "output_type": "execute_result"
    }
   ],
   "source": [
    "from datetime import date\n",
    "\n",
    "yy1 = date(y1, m1, d1)\n",
    "yy2 = date(y2,m2,d2)\n",
    "\n",
    "yy1-yy2"
   ]
  },
  {
   "cell_type": "code",
   "execution_count": 51,
   "metadata": {},
   "outputs": [
    {
     "data": {
      "text/plain": [
       "860"
      ]
     },
     "execution_count": 51,
     "metadata": {},
     "output_type": "execute_result"
    }
   ],
   "source": [
    "y2 = 2015\n",
    "y1 = 2015\n",
    "d1= 6\n",
    "d2 = 6\n",
    "m1= 7\n",
    "m2 = 6\n",
    "# use monthrange for days in each month\n",
    "# for example, if I want to know fine for 2015-07-06 when due date is 2015-06-06 \n",
    "# 24*15 + 1*500 \n",
    "\n",
    "returned_date = date(y1, m1, d1)\n",
    "due_date = date(y2,m2,d2)\n",
    "same_month = (monthrange(y2, m2)[1] - d2)\n",
    "same_month_fine = same_month*15\n",
    "# end date of month\n",
    "\n",
    "\n",
    "diff_month_fine = (m1-m2)*500\n",
    "\n",
    "same_month_fine + diff_month_fine"
   ]
  },
  {
   "cell_type": "code",
   "execution_count": 50,
   "metadata": {},
   "outputs": [
    {
     "ename": "TypeError",
     "evalue": "unsupported operand type(s) for -: 'datetime.date' and 'int'",
     "output_type": "error",
     "traceback": [
      "\u001b[0;31m---------------------------------------------------------------------------\u001b[0m",
      "\u001b[0;31mTypeError\u001b[0m                                 Traceback (most recent call last)",
      "\u001b[0;32m<ipython-input-50-a47c3ed5b0f1>\u001b[0m in \u001b[0;36m<module>\u001b[0;34m\u001b[0m\n\u001b[1;32m     12\u001b[0m \u001b[0mdue_date\u001b[0m \u001b[0;34m=\u001b[0m \u001b[0mdate\u001b[0m\u001b[0;34m(\u001b[0m\u001b[0my2\u001b[0m\u001b[0;34m,\u001b[0m\u001b[0mm2\u001b[0m\u001b[0;34m,\u001b[0m\u001b[0md2\u001b[0m\u001b[0;34m)\u001b[0m\u001b[0;34m\u001b[0m\u001b[0;34m\u001b[0m\u001b[0m\n\u001b[1;32m     13\u001b[0m \u001b[0;34m\u001b[0m\u001b[0m\n\u001b[0;32m---> 14\u001b[0;31m \u001b[0mreturned_date\u001b[0m \u001b[0;34m-\u001b[0m \u001b[0mdue_date\u001b[0m\u001b[0;34m.\u001b[0m\u001b[0mmonth\u001b[0m\u001b[0;34m\u001b[0m\u001b[0;34m\u001b[0m\u001b[0m\n\u001b[0m",
      "\u001b[0;31mTypeError\u001b[0m: unsupported operand type(s) for -: 'datetime.date' and 'int'"
     ]
    }
   ],
   "source": [
    "y2 = 2015\n",
    "y1 = 2015\n",
    "d1= 6\n",
    "d2 = 6\n",
    "m1= 7\n",
    "m2 = 6\n",
    "# use monthrange for days in each month\n",
    "# for example, if I want to know fine for 2015-07-06 when due date is 2015-06-06 \n",
    "# 24*15 + 1*500 \n",
    "\n",
    "returned_date = date(y1, m1, d1)\n",
    "due_date = date(y2,m2,d2)\n",
    "\n",
    "returned_date - due_date.month"
   ]
  },
  {
   "cell_type": "code",
   "execution_count": 31,
   "metadata": {},
   "outputs": [
    {
     "data": {
      "text/plain": [
       "datetime.date(2015, 6, 30)"
      ]
     },
     "execution_count": 31,
     "metadata": {},
     "output_type": "execute_result"
    }
   ],
   "source": [
    "end_date = date(y2,m2, monthrange(y2, m2)[1])\n",
    "end_date"
   ]
  },
  {
   "cell_type": "code",
   "execution_count": 20,
   "metadata": {},
   "outputs": [
    {
     "data": {
      "text/plain": [
       "45"
      ]
     },
     "execution_count": 20,
     "metadata": {},
     "output_type": "execute_result"
    }
   ],
   "source": [
    "(yy1-yy2).days*15"
   ]
  },
  {
   "cell_type": "code",
   "execution_count": 27,
   "metadata": {},
   "outputs": [
    {
     "data": {
      "text/plain": [
       "24"
      ]
     },
     "execution_count": 27,
     "metadata": {},
     "output_type": "execute_result"
    }
   ],
   "source": [
    "from calendar import monthrange\n",
    "\n",
    "monthrange(y2, m2)[1] - d2"
   ]
  },
  {
   "cell_type": "code",
   "execution_count": 45,
   "metadata": {},
   "outputs": [
    {
     "data": {
      "text/plain": [
       "860"
      ]
     },
     "execution_count": 45,
     "metadata": {},
     "output_type": "execute_result"
    }
   ],
   "source": [
    "24*15 + 1*500 "
   ]
  },
  {
   "cell_type": "code",
   "execution_count": 57,
   "metadata": {},
   "outputs": [
    {
     "data": {
      "text/plain": [
       "1500"
      ]
     },
     "execution_count": 57,
     "metadata": {},
     "output_type": "execute_result"
    }
   ],
   "source": [
    "\n",
    "y2 = 2014\n",
    "y1 = 2014\n",
    "d1= 5\n",
    "d2 = 23\n",
    "m1= 5\n",
    "m2 = 2\n",
    "\n",
    "libraryFine(d1, m1, y1, d2, m2, y2)"
   ]
  },
  {
   "cell_type": "code",
   "execution_count": null,
   "metadata": {},
   "outputs": [],
   "source": []
  }
 ],
 "metadata": {
  "kernelspec": {
   "display_name": "Python 3",
   "language": "python",
   "name": "python3"
  },
  "language_info": {
   "codemirror_mode": {
    "name": "ipython",
    "version": 3
   },
   "file_extension": ".py",
   "mimetype": "text/x-python",
   "name": "python",
   "nbconvert_exporter": "python",
   "pygments_lexer": "ipython3",
   "version": "3.7.7"
  }
 },
 "nbformat": 4,
 "nbformat_minor": 4
}
