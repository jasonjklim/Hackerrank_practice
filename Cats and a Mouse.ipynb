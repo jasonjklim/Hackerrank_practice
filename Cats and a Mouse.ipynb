{
 "cells": [
  {
   "cell_type": "markdown",
   "metadata": {},
   "source": [
    "https://www.hackerrank.com/challenges/cats-and-a-mouse/problem<br>\n",
    "\n",
    "\n",
    "\n",
    "Two cats and a mouse are at various positions on a line. You will be given their starting positions. Your task is to determine which cat will reach the mouse first, assuming the mouse does not move and the cats travel at equal speed. If the cats arrive at the same time, the mouse will be allowed to move and it will escape while they fight.\n",
    "\n",
    "You are given  queries in the form of , , and  representing the respective positions for cats  and , and for mouse . Complete the function  to return the appropriate answer to each query, which will be printed on a new line.\n",
    "\n",
    "If cat  catches the mouse first, print Cat A.\n",
    "If cat  catches the mouse first, print Cat B.\n",
    "If both cats reach the mouse at the same time, print Mouse C as the two cats fight and mouse escapes.\n",
    "Example\n",
    "\n",
    "\n",
    "\n",
    "\n",
    "The cats are at positions  (Cat A) and  (Cat B), and the mouse is at position . Cat B, at position  will arrive first since it is only  unit away while the other is  units away. Return 'Cat B'.\n",
    "\n",
    "Function Description\n",
    "\n",
    "Complete the catAndMouse function in the editor below.\n",
    "\n",
    "catAndMouse has the following parameter(s):\n",
    "\n",
    "int x: Cat 's position\n",
    "int y: Cat 's position\n",
    "int z: Mouse 's position\n",
    "Returns\n",
    "\n",
    "string: Either 'Cat A', 'Cat B', or 'Mouse C'\n",
    "Input Format\n",
    "\n",
    "The first line contains a single integer, , denoting the number of queries.\n",
    "Each of the  subsequent lines contains three space-separated integers describing the respective values of  (cat 's location),  (cat 's location), and  (mouse 's location).\n",
    "\n",
    "Constraints\n",
    "\n",
    "Sample Input 0\n",
    "\n",
    "2\n",
    "1 2 3\n",
    "1 3 2\n",
    "Sample Output 0\n",
    "\n",
    "Cat B\n",
    "Mouse C"
   ]
  },
  {
   "cell_type": "code",
   "execution_count": 5,
   "metadata": {},
   "outputs": [],
   "source": [
    "# Complete the catAndMouse function below.\n",
    "def catAndMouse(x, y, z):\n",
    "    \n",
    "    # 1. check distance between x to z and y to z - absolute value may need\n",
    "    # 2. check minimum and if it is same, print Mouse C\n",
    "    A = abs(x-z)\n",
    "    B = abs(y-z)\n",
    "    if A == B:\n",
    "        return \"Mouse C\"\n",
    "    elif A > B:\n",
    "        return \"Cat B\"\n",
    "    else:\n",
    "        return \"Cat A\""
   ]
  },
  {
   "cell_type": "code",
   "execution_count": 4,
   "metadata": {},
   "outputs": [
    {
     "name": "stdout",
     "output_type": "stream",
     "text": [
      "Mouse C\n"
     ]
    }
   ],
   "source": [
    "x = 1\n",
    "y = 3\n",
    "z = 2\n",
    "\n",
    "catAndMouse(x,y,z)"
   ]
  },
  {
   "cell_type": "code",
   "execution_count": null,
   "metadata": {},
   "outputs": [],
   "source": []
  }
 ],
 "metadata": {
  "kernelspec": {
   "display_name": "Python 3",
   "language": "python",
   "name": "python3"
  },
  "language_info": {
   "codemirror_mode": {
    "name": "ipython",
    "version": 3
   },
   "file_extension": ".py",
   "mimetype": "text/x-python",
   "name": "python",
   "nbconvert_exporter": "python",
   "pygments_lexer": "ipython3",
   "version": "3.7.7"
  }
 },
 "nbformat": 4,
 "nbformat_minor": 4
}
