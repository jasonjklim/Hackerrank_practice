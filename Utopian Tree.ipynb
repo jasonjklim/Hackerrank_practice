{
 "cells": [
  {
   "cell_type": "markdown",
   "metadata": {},
   "source": [
    "The Utopian Tree goes through 2 cycles of growth every year. Each spring, it doubles in height. Each summer, its height increases by 1 meter.\n",
    "\n",
    "A Utopian Tree sapling with a height of 1 meter is planted at the onset of spring. How tall will the tree be after  growth cycles?\n",
    "\n",
    "For example, if the number of growth cycles is , the calculations are as follows:\n",
    "\n",
    "Period  Height\n",
    "0          1\n",
    "1          2\n",
    "2          3\n",
    "3          6\n",
    "4          7\n",
    "5          14\n",
    "Function Description\n",
    "\n",
    "Complete the utopianTree function in the editor below.\n",
    "\n",
    "utopianTree has the following parameter(s):\n",
    "\n",
    "int n: the number of growth cycles to simulate\n",
    "Returns\n",
    "\n",
    "int: the height of the tree after the given number of cycles\n",
    "Input Format\n",
    "\n",
    "The first line contains an integer, , the number of test cases.\n",
    " subsequent lines each contain an integer, , the number of cycles for that test case.\n",
    "\n",
    "Constraints\n",
    "\n",
    "\n",
    "\n",
    "Sample Input\n",
    "\n",
    "3\n",
    "0\n",
    "1\n",
    "4\n",
    "Sample Output\n",
    "\n",
    "1\n",
    "2\n",
    "7"
   ]
  },
  {
   "cell_type": "code",
   "execution_count": 39,
   "metadata": {},
   "outputs": [],
   "source": [
    "# Complete the utopianTree function below.\n",
    "def utopianTree(n):\n",
    "    \n",
    "    # create rule that see period and heights\n",
    "    # 2. use while loop to continuously looping until it reaches n\n",
    "    if n < 3:\n",
    "        return n+1\n",
    "    \n",
    "    elif n % 2 == 0:\n",
    "        return(utopianTree(n-2)*2)+1\n",
    "    else:\n",
    "        return (utopianTree(n-2)+1)*2\n",
    "        \n"
   ]
  },
  {
   "cell_type": "code",
   "execution_count": 41,
   "metadata": {},
   "outputs": [
    {
     "data": {
      "text/plain": [
       "7"
      ]
     },
     "execution_count": 41,
     "metadata": {},
     "output_type": "execute_result"
    }
   ],
   "source": [
    "utopianTree(4)"
   ]
  },
  {
   "cell_type": "code",
   "execution_count": 16,
   "metadata": {},
   "outputs": [
    {
     "data": {
      "text/plain": [
       "0"
      ]
     },
     "execution_count": 16,
     "metadata": {},
     "output_type": "execute_result"
    }
   ],
   "source": [
    "def utopianTree(n):\n",
    "    if n < 3:\n",
    "        return n + 1\n",
    "    if n % 2 == 0:\n",
    "        return (utopianTree(n - 2) * 2) + 1\n",
    "    else:\n",
    "        return (utopianTree(n - 2) + 1) * 2"
   ]
  },
  {
   "cell_type": "code",
   "execution_count": null,
   "metadata": {},
   "outputs": [],
   "source": []
  }
 ],
 "metadata": {
  "kernelspec": {
   "display_name": "Python 3",
   "language": "python",
   "name": "python3"
  },
  "language_info": {
   "codemirror_mode": {
    "name": "ipython",
    "version": 3
   },
   "file_extension": ".py",
   "mimetype": "text/x-python",
   "name": "python",
   "nbconvert_exporter": "python",
   "pygments_lexer": "ipython3",
   "version": "3.7.7"
  }
 },
 "nbformat": 4,
 "nbformat_minor": 4
}
