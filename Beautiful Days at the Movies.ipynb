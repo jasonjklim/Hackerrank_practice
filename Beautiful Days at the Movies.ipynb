{
 "cells": [
  {
   "cell_type": "markdown",
   "metadata": {},
   "source": [
    "\n",
    "https://www.hackerrank.com/challenges/beautiful-days-at-the-movies/problem?h_r=next-challenge&h_v=zen&h_r=next-challenge&h_v=zen\n",
    "\n",
    "<Br>\n",
    "\n",
    "Lily likes to play games with integers. She has created a new game where she determines the difference between a number and its reverse. For instance, given the number , its reverse is . Their difference is . The number  reversed is , and their difference is .\n",
    "\n",
    "She decides to apply her game to decision making. She will look at a numbered range of days and will only go to a movie on a beautiful day.\n",
    "\n",
    "Given a range of numbered days,  and a number , determine the number of days in the range that are beautiful. Beautiful numbers are defined as numbers where  is evenly divisible by . If a day's value is a beautiful number, it is a beautiful day. Print the number of beautiful days in the range.\n",
    "\n",
    "Function Description\n",
    "\n",
    "Complete the beautifulDays function in the editor below. It must return the number of beautiful days in the range.\n",
    "\n",
    "beautifulDays has the following parameter(s):\n",
    "\n",
    "i: the starting day number\n",
    "j: the ending day number\n",
    "k: the divisor\n",
    "Input Format\n",
    "\n",
    "A single line of three space-separated integers describing the respective values of , , and .\n",
    "\n",
    "Constraints\n",
    "\n",
    "Output Format\n",
    "\n",
    "Print the number of beautiful days in the inclusive range between  and .\n",
    "\n",
    "Sample Input\n",
    "\n",
    "20 23 6\n",
    "Sample Output\n",
    "\n",
    "2\n",
    "Explanation\n"
   ]
  },
  {
   "cell_type": "code",
   "execution_count": 10,
   "metadata": {},
   "outputs": [],
   "source": [
    "# Complete the beautifulDays function below.\n",
    "def beautifulDays(i, j, k):\n",
    "    \n",
    "    # 1. reverse range of int(i) to int(j)\n",
    "    count_list = 0\n",
    "    for num in range(i, j+1):\n",
    "        cal = abs(num-int(str(num)[::-1]))\n",
    "         # 2. divide k and check it is divisible\n",
    "        if cal % k == 0 :\n",
    "            count_list + =1\n",
    "        \n",
    "        \n",
    "        \n",
    "    \n",
    "   \n",
    "    \n",
    "    \n",
    "    \n",
    "    return count_list"
   ]
  },
  {
   "cell_type": "code",
   "execution_count": 11,
   "metadata": {},
   "outputs": [
    {
     "data": {
      "text/plain": [
       "[18, 0]"
      ]
     },
     "execution_count": 11,
     "metadata": {},
     "output_type": "execute_result"
    }
   ],
   "source": [
    "i = 20\n",
    "j = 23\n",
    "k = 6\n",
    "\n",
    "beautifulDays(i,j,k)"
   ]
  },
  {
   "cell_type": "code",
   "execution_count": 4,
   "metadata": {},
   "outputs": [
    {
     "data": {
      "text/plain": [
       "2"
      ]
     },
     "execution_count": 4,
     "metadata": {},
     "output_type": "execute_result"
    }
   ],
   "source": [
    "# Getting reverse\n",
    "int(str(20)[::-1])"
   ]
  },
  {
   "cell_type": "code",
   "execution_count": null,
   "metadata": {},
   "outputs": [],
   "source": []
  }
 ],
 "metadata": {
  "kernelspec": {
   "display_name": "Python 3",
   "language": "python",
   "name": "python3"
  },
  "language_info": {
   "codemirror_mode": {
    "name": "ipython",
    "version": 3
   },
   "file_extension": ".py",
   "mimetype": "text/x-python",
   "name": "python",
   "nbconvert_exporter": "python",
   "pygments_lexer": "ipython3",
   "version": "3.7.7"
  }
 },
 "nbformat": 4,
 "nbformat_minor": 4
}
