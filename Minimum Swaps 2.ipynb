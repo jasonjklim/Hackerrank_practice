{
 "cells": [
  {
   "cell_type": "markdown",
   "metadata": {},
   "source": [
    "# Minimum Swaps 2\n",
    "\n",
    "https://www.hackerrank.com/challenges/minimum-swaps-2/problem?h_l=interview&playlist_slugs%5B%5D=interview-preparation-kit&playlist_slugs%5B%5D=arrays"
   ]
  },
  {
   "cell_type": "markdown",
   "metadata": {},
   "source": [
    "You are given an unordered array consisting of consecutive integers  [1, 2, 3, ..., n] without any duplicates. You are allowed to swap any two elements. You need to find the minimum number of swaps required to sort the array in ascending order.\n",
    "\n",
    "For example, given the array  we perform the following steps:\n",
    "\n",
    "i   arr                         swap (indices)\n",
    "0   [7, 1, 3, 2, 4, 5, 6]   swap (0,3)\n",
    "1   [2, 1, 3, 7, 4, 5, 6]   swap (0,1)\n",
    "2   [1, 2, 3, 7, 4, 5, 6]   swap (3,4)\n",
    "3   [1, 2, 3, 4, 7, 5, 6]   swap (4,5)\n",
    "4   [1, 2, 3, 4, 5, 7, 6]   swap (5,6)\n",
    "5   [1, 2, 3, 4, 5, 6, 7]\n",
    "It took  swaps to sort the array.\n",
    "\n",
    "Function Description\n",
    "\n",
    "Complete the function minimumSwaps in the editor below. It must return an integer representing the minimum number of swaps to sort the array.\n",
    "\n",
    "minimumSwaps has the following parameter(s):\n",
    "\n",
    "arr: an unordered array of integers\n",
    "Input Format\n",
    "\n",
    "The first line contains an integer, , the size of .\n",
    "The second line contains  space-separated integers .\n",
    "\n",
    "Constraints\n",
    "\n",
    "Output Format\n",
    "\n",
    "Return the minimum number of swaps to sort the given array.\n",
    "\n",
    "Sample Input 0\n",
    "\n",
    "4\n",
    "4 3 1 2\n",
    "Sample Output 0\n",
    "\n",
    "3\n",
    "Explanation 0\n",
    "\n",
    "Given array \n",
    "After swapping  we get \n",
    "After swapping  we get \n",
    "After swapping  we get \n",
    "So, we need a minimum of  swaps to sort the array in ascending order.\n",
    "\n",
    "Sample Input 1\n",
    "\n",
    "5\n",
    "2 3 4 1 5\n",
    "Sample Output 1\n",
    "\n",
    "3\n",
    "Explanation 1\n",
    "\n",
    "Given array \n",
    "After swapping  we get \n",
    "After swapping  we get \n",
    "After swapping  we get \n",
    "So, we need a minimum of  swaps to sort the array in ascending order.\n",
    "\n",
    "Sample Input 2\n",
    "\n",
    "7\n",
    "1 3 5 2 4 6 7\n",
    "Sample Output 2\n",
    "\n",
    "3\n",
    "Explanation 2\n",
    "\n",
    "Given array \n",
    "After swapping  we get \n",
    "After swapping  we get \n",
    "After swapping  we get \n",
    "So, we need a minimum of  swaps to sort the array in ascending order."
   ]
  },
  {
   "cell_type": "code",
   "execution_count": 1,
   "metadata": {},
   "outputs": [],
   "source": [
    "arr= [1,3,5,2,4,6,7]"
   ]
  },
  {
   "cell_type": "code",
   "execution_count": 7,
   "metadata": {},
   "outputs": [
    {
     "data": {
      "text/plain": [
       "{1: 0, 3: 1, 5: 2, 2: 3, 4: 4, 6: 5, 7: 6}"
      ]
     },
     "execution_count": 7,
     "metadata": {},
     "output_type": "execute_result"
    }
   ],
   "source": [
    "# get sorted array\n",
    "ref_arr = sorted(arr)\n",
    "# get index of original array\n",
    "index_dict = {v:i for i,v in enumerate(arr)}\n",
    "index_dict"
   ]
  },
  {
   "cell_type": "code",
   "execution_count": 6,
   "metadata": {},
   "outputs": [
    {
     "data": {
      "text/plain": [
       "1"
      ]
     },
     "execution_count": 6,
     "metadata": {},
     "output_type": "execute_result"
    }
   ],
   "source": [
    "ref_arr = sorted(arr)\n",
    "ref_arr[0]"
   ]
  },
  {
   "cell_type": "code",
   "execution_count": null,
   "metadata": {},
   "outputs": [],
   "source": [
    "r"
   ]
  },
  {
   "cell_type": "code",
   "execution_count": 8,
   "metadata": {},
   "outputs": [
    {
     "data": {
      "text/plain": [
       "3"
      ]
     },
     "execution_count": 8,
     "metadata": {},
     "output_type": "execute_result"
    }
   ],
   "source": [
    "swap_count = 0\n",
    "\n",
    "for i,v in enumerate(arr):\n",
    "    correct_value = ref_arr[i]\n",
    "    # check if value is in right index\n",
    "    if v != correct_value:\n",
    "        # get wrong value's index\n",
    "        to_swap_ix = index_dict[correct_value]\n",
    "        # swap it with right value\n",
    "        arr[to_swap_ix], arr[i] = arr[i], arr[to_swap_ix]\n",
    "        \n",
    "        # change index dictionary\n",
    "        index_dict[v] = to_swap_ix\n",
    "        # change index_dict for correct_Vale\n",
    "        index_dict[correct_value] = i\n",
    "    # increase swap count\n",
    "        swap_count += 1\n",
    "    # change arr\n",
    "swap_count"
   ]
  },
  {
   "cell_type": "code",
   "execution_count": null,
   "metadata": {},
   "outputs": [],
   "source": [
    "def minimumSwaps(arr):\n",
    "    #1. get sorted list\n",
    "    ref_arr = sorted(arr)\n",
    "    # 2. get index array with dictionary\n",
    "    # for example  4 : 0\n",
    "    index_dict = {v:i for i,v in enumerate(arr)}\n",
    "\n",
    "    # counter for swap\n",
    "    swaps = 0\n",
    "\n",
    "    for i,v in enumerate(arr):\n",
    "        # get correct value from ref_arr\n",
    "        correct_value = ref_arr[i]\n",
    "        # i.e. correct_val is ref_arr[0] == 1\n",
    "        # if it is not correct_val\n",
    "        if v != correct_value:\n",
    "            # find correct_value's index from index_dict\n",
    "            to_swap_ix = index_dict[correct_value]\n",
    "            # then swap\n",
    "            arr[to_swap_ix],arr[i] = arr[i],arr[to_swap_ix]\n",
    "            # change index_dict for v\n",
    "            index_dict[v] = to_swap_ix\n",
    "            # change index_dict for correct_Vale\n",
    "            index_dict[correct_value] = i\n",
    "            # add 1 to swap counter\n",
    "            swaps += 1\n",
    "        \n",
    "    # finally return swap\n",
    "    return swaps"
   ]
  }
 ],
 "metadata": {
  "kernelspec": {
   "display_name": "Python 3",
   "language": "python",
   "name": "python3"
  },
  "language_info": {
   "codemirror_mode": {
    "name": "ipython",
    "version": 3
   },
   "file_extension": ".py",
   "mimetype": "text/x-python",
   "name": "python",
   "nbconvert_exporter": "python",
   "pygments_lexer": "ipython3",
   "version": "3.7.7"
  }
 },
 "nbformat": 4,
 "nbformat_minor": 4
}
