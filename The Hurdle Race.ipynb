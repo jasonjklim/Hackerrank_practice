{
 "cells": [
  {
   "cell_type": "markdown",
   "metadata": {},
   "source": [
    "A video player plays a game in which the character competes in a hurdle race. Hurdles are of varying heights, and the characters have a maximum height they can jump. There is a magic potion they can take that will increase their maximum jump height by  unit for each dose. How many doses of the potion must the character take to be able to jump all of the hurdles. If the character can already clear all of the hurdles, return .\n",
    "\n",
    "Example\n",
    "\n",
    "\n",
    "The character can jump  unit high initially and must take  doses of potion to be able to jump all of the hurdles.\n",
    "\n",
    "Function Description\n",
    "\n",
    "Complete the hurdleRace function in the editor below.\n",
    "\n",
    "hurdleRace has the following parameter(s):\n",
    "\n",
    "int k: the height the character can jump naturally\n",
    "int height[n]: the heights of each hurdle\n",
    "Returns\n",
    "\n",
    "int: the minimum number of doses required, always  or more\n",
    "Input Format\n",
    "\n",
    "The first line contains two space-separated integers  and , the number of hurdles and the maximum height the character can jump naturally.\n",
    "The second line contains  space-separated integers  where .\n",
    "\n",
    "Constraints\n",
    "\n",
    "Sample Input 0\n",
    "\n",
    "5 4\n",
    "1 6 3 5 2\n",
    "Sample Output 0\n",
    "\n",
    "2"
   ]
  },
  {
   "cell_type": "code",
   "execution_count": 1,
   "metadata": {},
   "outputs": [],
   "source": [
    "def hurdleRace(k, height):\n",
    "    # 1. get maximun height\n",
    "    # 2. maximum height - k\n",
    "    # return\n",
    "    return k"
   ]
  },
  {
   "cell_type": "code",
   "execution_count": null,
   "metadata": {},
   "outputs": [],
   "source": [
    "heigh2 5 4 5 2"
   ]
  }
 ],
 "metadata": {
  "kernelspec": {
   "display_name": "Python 3",
   "language": "python",
   "name": "python3"
  },
  "language_info": {
   "codemirror_mode": {
    "name": "ipython",
    "version": 3
   },
   "file_extension": ".py",
   "mimetype": "text/x-python",
   "name": "python",
   "nbconvert_exporter": "python",
   "pygments_lexer": "ipython3",
   "version": "3.7.7"
  }
 },
 "nbformat": 4,
 "nbformat_minor": 4
}
