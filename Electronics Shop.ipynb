{
 "cells": [
  {
   "cell_type": "markdown",
   "metadata": {},
   "source": [
    "# Electronics Shop\n",
    "\n",
    "https://www.hackerrank.com/challenges/electronics-shop/problem"
   ]
  },
  {
   "cell_type": "markdown",
   "metadata": {},
   "source": [
    "A person wants to determine the most expensive computer keyboard and USB drive that can be purchased with a give budget. Given price lists for keyboards and USB drives and a budget, find the cost to buy them. If it is not possible to buy both items, return .\n",
    "\n",
    "Example\n",
    "\n",
    "\n",
    "\n",
    "The person can buy a , or a . Choose the latter as the more expensive option and return .\n",
    "\n",
    "Function Description\n",
    "\n",
    "Complete the getMoneySpent function in the editor below.\n",
    "\n",
    "getMoneySpent has the following parameter(s):\n",
    "\n",
    "int keyboards[n]: the keyboard prices\n",
    "int drives[m]: the drive prices\n",
    "int b: the budget\n",
    "Returns\n",
    "\n",
    "int: the maximum that can be spent, or  if it is not possible to buy both items\n",
    "Input Format\n",
    "\n",
    "The first line contains three space-separated integers , , and , the budget, the number of keyboard models and the number of USB drive models.\n",
    "The second line contains  space-separated integers , the prices of each keyboard model.\n",
    "The third line contains  space-separated integers , the prices of the USB drives.\n",
    "\n",
    "Constraints\n",
    "\n",
    "The price of each item is in the inclusive range .\n",
    "Sample Input 0\n",
    "\n",
    "10 2 3\n",
    "3 1\n",
    "5 2 8\n",
    "Sample Output 0\n",
    "\n",
    "9"
   ]
  },
  {
   "cell_type": "code",
   "execution_count": 13,
   "metadata": {},
   "outputs": [],
   "source": [
    "def getMoneySpent(keyboards, drives, b):\n",
    "    #\n",
    "    # Write your code here.\n",
    "    #\n",
    "    # 1. get all possible sum \n",
    "    poss_sum = [-1]\n",
    "    for kb in keyboards:\n",
    "        for dr in drives:\n",
    "            if kb+dr <=b:\n",
    "                poss_sum.append(kb+dr)\n",
    "        \n",
    "    return max(poss_sum)\n",
    "            \n",
    "    # 2. see less than b, get maximum of that list\n",
    "    # 3. if none return -1"
   ]
  },
  {
   "cell_type": "code",
   "execution_count": 14,
   "metadata": {},
   "outputs": [
    {
     "data": {
      "text/plain": [
       "-1"
      ]
     },
     "execution_count": 14,
     "metadata": {},
     "output_type": "execute_result"
    }
   ],
   "source": [
    "keyboards= [4]\n",
    "drives = [5]\n",
    "b =5\n",
    "getMoneySpent(keyboards, drives, b)"
   ]
  },
  {
   "cell_type": "code",
   "execution_count": 15,
   "metadata": {},
   "outputs": [
    {
     "data": {
      "text/plain": [
       "9"
      ]
     },
     "execution_count": 15,
     "metadata": {},
     "output_type": "execute_result"
    }
   ],
   "source": [
    "keyboards= [3,1]\n",
    "drives = [5, 2, 8]\n",
    "b =10\n",
    "getMoneySpent(keyboards, drives, b)"
   ]
  },
  {
   "cell_type": "code",
   "execution_count": 12,
   "metadata": {},
   "outputs": [
    {
     "data": {
      "text/plain": [
       "-1"
      ]
     },
     "execution_count": 12,
     "metadata": {},
     "output_type": "execute_result"
    }
   ],
   "source": [
    "poss_sum = [-1]\n",
    "for kb in keyboards:\n",
    "    for dr in drives:\n",
    "        if kb+dr <=b:\n",
    "            poss_sum.append(kb+dr)\n",
    "        \n",
    "max(poss_sum)"
   ]
  },
  {
   "cell_type": "code",
   "execution_count": null,
   "metadata": {},
   "outputs": [],
   "source": []
  }
 ],
 "metadata": {
  "kernelspec": {
   "display_name": "Python 3",
   "language": "python",
   "name": "python3"
  },
  "language_info": {
   "codemirror_mode": {
    "name": "ipython",
    "version": 3
   },
   "file_extension": ".py",
   "mimetype": "text/x-python",
   "name": "python",
   "nbconvert_exporter": "python",
   "pygments_lexer": "ipython3",
   "version": "3.7.7"
  }
 },
 "nbformat": 4,
 "nbformat_minor": 4
}
