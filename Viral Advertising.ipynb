{
 "cells": [
  {
   "cell_type": "markdown",
   "metadata": {},
   "source": [
    "# Viral Advertising\n",
    "\n",
    "https://www.hackerrank.com/challenges/strange-advertising/problem?h_r=next-challenge&h_v=zen&h_r=next-challenge&h_v=zen&h_r=next-challenge&h_v=zen"
   ]
  },
  {
   "cell_type": "markdown",
   "metadata": {},
   "source": [
    "HackerLand Enterprise is adopting a new viral advertising strategy. When they launch a new product, they advertise it to exactly  people on social media.\n",
    "\n",
    "On the first day, half of those  people (i.e., ) like the advertisement and each shares it with  of their friends. At the beginning of the second day,  people receive the advertisement.\n",
    "\n",
    "Each day,  of the recipients like the advertisement and will share it with  friends on the following day. Assuming nobody receives the advertisement twice, determine how many people have liked the ad by the end of a given day, beginning with launch day as day .\n",
    "\n",
    "For example, assume you want to know how many have liked the ad by the end of the  day.\n",
    "\n",
    "Day Shared Liked Cumulative\n",
    "1      5     2       2\n",
    "2      6     3       5\n",
    "3      9     4       9\n",
    "4     12     6      15\n",
    "5     18     9      24\n",
    "The cumulative number of likes is .\n",
    "\n",
    "Function Description\n",
    "\n",
    "Complete the viralAdvertising function in the editor below. It should return the cumulative number of people who have liked the ad at a given time.\n",
    "\n",
    "viralAdvertising has the following parameter(s):\n",
    "\n",
    "n: the integer number of days\n",
    "Input Format\n",
    "\n",
    "A single integer, , denoting a number of days.\n",
    "\n",
    "Constraints\n",
    "\n",
    "Output Format\n",
    "\n",
    "Print the number of people who liked the advertisement during the first  days.\n",
    "\n",
    "Sample Input\n",
    "\n",
    "3\n",
    "Sample Output\n",
    "\n",
    "9\n"
   ]
  },
  {
   "cell_type": "code",
   "execution_count": 16,
   "metadata": {},
   "outputs": [],
   "source": [
    "# Complete the viralAdvertising function below.\n",
    "def viralAdvertising(n):\n",
    "    share = 5\n",
    "    day = 1\n",
    "    cum_like = 0\n",
    "    # 1. start point\n",
    "    # 2. calculate like and put into cum.\n",
    "    # 3. use while loop continuously doing this\n",
    "    while n >= day:\n",
    "        #print(share)\n",
    "        cum_like += share//2\n",
    "        share = (share//2)*3\n",
    "        day +=1\n",
    "\n",
    "    return cum_like"
   ]
  },
  {
   "cell_type": "code",
   "execution_count": 18,
   "metadata": {},
   "outputs": [
    {
     "name": "stdout",
     "output_type": "stream",
     "text": [
      "5\n",
      "6\n",
      "9\n"
     ]
    },
    {
     "data": {
      "text/plain": [
       "9"
      ]
     },
     "execution_count": 18,
     "metadata": {},
     "output_type": "execute_result"
    }
   ],
   "source": [
    "viralAdvertising(3)"
   ]
  },
  {
   "cell_type": "code",
   "execution_count": null,
   "metadata": {},
   "outputs": [],
   "source": []
  }
 ],
 "metadata": {
  "kernelspec": {
   "display_name": "Python 3",
   "language": "python",
   "name": "python3"
  },
  "language_info": {
   "codemirror_mode": {
    "name": "ipython",
    "version": 3
   },
   "file_extension": ".py",
   "mimetype": "text/x-python",
   "name": "python",
   "nbconvert_exporter": "python",
   "pygments_lexer": "ipython3",
   "version": "3.7.7"
  }
 },
 "nbformat": 4,
 "nbformat_minor": 4
}
