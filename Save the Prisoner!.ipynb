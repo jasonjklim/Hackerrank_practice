{
 "cells": [
  {
   "cell_type": "markdown",
   "metadata": {},
   "source": [
    "# Save the Prisoner!\n",
    "\n",
    "https://www.hackerrank.com/challenges/save-the-prisoner/problem"
   ]
  },
  {
   "cell_type": "markdown",
   "metadata": {},
   "source": [
    "A jail has a number of prisoners and a number of treats to pass out to them. Their jailer decides the fairest way to divide the treats is to seat the prisoners around a circular table in sequentially numbered chairs. A chair number will be drawn from a hat. Beginning with the prisoner in that chair, one candy will be handed to each prisoner sequentially around the table until all have been distributed.\n",
    "\n",
    "The jailer is playing a little joke, though. The last piece of candy looks like all the others, but it tastes awful. Determine the chair number occupied by the prisoner who will receive that candy.\n",
    "\n",
    "For example, there are  prisoners and  pieces of candy. The prisoners arrange themselves in seats numbered  to . Let's suppose two is drawn from the hat. Prisoners receive candy at positions . The prisoner to be warned sits in chair number .\n",
    "\n",
    "Function Description\n",
    "\n",
    "Complete the saveThePrisoner function in the editor below. It should return an integer representing the chair number of the prisoner to warn.\n",
    "\n",
    "saveThePrisoner has the following parameter(s):\n",
    "\n",
    "n: an integer, the number of prisoners\n",
    "m: an integer, the number of sweets\n",
    "s: an integer, the chair number to begin passing out sweets from\n",
    "Input Format\n",
    "\n",
    "The first line contains an integer, , denoting the number of test cases.\n",
    "The next  lines each contain  space-separated integers:\n",
    "- : the number of prisoners\n",
    "- : the number of sweets\n",
    "- : the chair number to start passing out treats at\n",
    "\n",
    "Constraints\n",
    "\n",
    "Output Format\n",
    "\n",
    "For each test case, print the chair number of the prisoner who receives the awful treat on a new line.\n",
    "\n",
    "Sample Input 0\n",
    "\n",
    "2\n",
    "5 2 1\n",
    "5 2 2\n",
    "Sample Output 0\n",
    "\n",
    "2\n",
    "3\n",
    "https://www.hackerrank.com/challenges/save-the-prisoner/problem"
   ]
  },
  {
   "cell_type": "code",
   "execution_count": 3,
   "metadata": {},
   "outputs": [],
   "source": [
    "def saveThePrisoner(n, m, s):\n",
    "    # 1. get reminder m / n\n",
    "    # n= 7, m= 19, s= 2\n",
    "    # 18%7 = 4\n",
    "    rem = ((s-1+m-1)%n) + 1\n",
    "\n",
    "\n",
    "    # 2. add rem to starting point to check who be warned prisoner\n",
    "    return rem\n",
    "    "
   ]
  },
  {
   "cell_type": "code",
   "execution_count": 4,
   "metadata": {},
   "outputs": [
    {
     "data": {
      "text/plain": [
       "42123349"
      ]
     },
     "execution_count": 4,
     "metadata": {},
     "output_type": "execute_result"
    }
   ],
   "source": [
    "n = 58124642 \n",
    "m =211432460 \n",
    "s = 5064816\n",
    "\n",
    "saveThePrisoner(n,m,s)"
   ]
  },
  {
   "cell_type": "code",
   "execution_count": null,
   "metadata": {},
   "outputs": [],
   "source": []
  },
  {
   "cell_type": "code",
   "execution_count": null,
   "metadata": {},
   "outputs": [],
   "source": []
  }
 ],
 "metadata": {
  "kernelspec": {
   "display_name": "Python 3",
   "language": "python",
   "name": "python3"
  },
  "language_info": {
   "codemirror_mode": {
    "name": "ipython",
    "version": 3
   },
   "file_extension": ".py",
   "mimetype": "text/x-python",
   "name": "python",
   "nbconvert_exporter": "python",
   "pygments_lexer": "ipython3",
   "version": "3.7.7"
  }
 },
 "nbformat": 4,
 "nbformat_minor": 4
}
