{
 "cells": [
  {
   "cell_type": "markdown",
   "metadata": {},
   "source": [
    "https://www.hackerrank.com/challenges/jumping-on-the-clouds-revisited/problem <Br>\n",
    "    \n",
    "Aerith is playing a cloud hopping game. In this game, there are sequentially numbered clouds that can be thunderheads or cumulus clouds. Her character must jump from cloud to cloud until it reaches the start again.\n",
    "\n",
    "To play, Aerith is given an array of clouds,  and an energy level . She starts from  and uses  unit of energy to make a jump of size  to cloud . If Aerith lands on a thundercloud, , her energy () decreases by  additional units. The game ends when Aerith lands back on cloud .\n",
    "\n",
    "Given the values of , , and the configuration of the clouds as an array , can you determine the final value of  after the game ends?\n",
    "\n",
    "For example, give  and , the indices of her path are . Her energy level reduces by  for each jump to . She landed on one thunderhead at an additional cost of  energy units. Her final energy level is .\n",
    "\n",
    "Note: Recall that  refers to the modulo operation. In this case, it serves to make the route circular. If Aerith is at  and jumps , she will arrive at .\n",
    "\n",
    "Function Description\n",
    "\n",
    "Complete the jumpingOnClouds function in the editor below. It should return an integer representing the energy level remaining after the game.\n",
    "\n",
    "jumpingOnClouds has the following parameter(s):\n",
    "\n",
    "c: an array of integers representing cloud types\n",
    "k: an integer representing the length of one jump\n",
    "Input Format\n",
    "\n",
    "The first line contains two space-separated integers,  and , the number of clouds and the jump distance.\n",
    "The second line contains  space-separated integers  where . Each cloud is described as follows:\n",
    "\n",
    "If , then cloud  is a cumulus cloud.\n",
    "If , then cloud  is a thunderhead.\n",
    "Constraints\n",
    "\n",
    "Output Format\n",
    "\n",
    "Print the final value of  on a new line.\n",
    "\n",
    "Sample Input\n",
    "\n",
    "8 2\n",
    "0 0 1 0 0 1 1 0\n",
    "Sample Output\n",
    "\n",
    "92\n",
    "Explanation\n",
    "\n",
    "In the diagram below, red clouds are thunderheads and purple clouds are cumulus clouds:\n",
    "\n",
    "game board\n",
    "\n",
    "Observe that our thunderheads are the clouds numbered , , and . Aerith makes the following sequence of moves:\n",
    "\n",
    "Move: , Energy: .\n",
    "Move: , Energy: .\n",
    "Move: , Energy: .\n",
    "Move: , Energy: ."
   ]
  },
  {
   "cell_type": "code",
   "execution_count": 1,
   "metadata": {},
   "outputs": [],
   "source": [
    "n = 8\n",
    "k = 2\n",
    "c = [0,0,1,0,0,1,1,0]"
   ]
  },
  {
   "cell_type": "code",
   "execution_count": 3,
   "metadata": {},
   "outputs": [
    {
     "data": {
      "text/plain": [
       "92"
      ]
     },
     "execution_count": 3,
     "metadata": {},
     "output_type": "execute_result"
    }
   ],
   "source": [
    "energy = 100\n",
    "# given\n",
    "\n",
    "# start from c[0] and jump to a\n",
    "\n",
    "for jump in range(0,n,k):\n",
    "    if c[jump] == 0:\n",
    "        energy -=1\n",
    "    else:\n",
    "        energy -= 3\n",
    "energy"
   ]
  },
  {
   "cell_type": "code",
   "execution_count": 6,
   "metadata": {},
   "outputs": [],
   "source": [
    "def jumpingOnClouds(c, k):\n",
    "    # given energy\n",
    "    energy = 100\n",
    "    # jump should be k steps in range of 0 to length of c\n",
    "    for jump in range(0, len(c), k):\n",
    "        # if c[i] == 0, then -1\n",
    "        if c[jump] == 0:\n",
    "            energy -=1\n",
    "        # if c[i] == 1, then -3\n",
    "        else:\n",
    "            energy -= 3  \n",
    "    return energy\n",
    "# error because player needs to come back to c[0]"
   ]
  },
  {
   "cell_type": "code",
   "execution_count": 8,
   "metadata": {},
   "outputs": [
    {
     "data": {
      "text/plain": [
       "94"
      ]
     },
     "execution_count": 8,
     "metadata": {},
     "output_type": "execute_result"
    }
   ],
   "source": [
    "\n",
    "\n",
    "jumpingOnClouds(c,k)"
   ]
  },
  {
   "cell_type": "code",
   "execution_count": 9,
   "metadata": {},
   "outputs": [
    {
     "data": {
      "text/plain": [
       "1"
      ]
     },
     "execution_count": 9,
     "metadata": {},
     "output_type": "execute_result"
    }
   ],
   "source": [
    "k = 3\n",
    "c = [1,1,1,0,1,1,0,0,0,0]\n",
    "\n",
    "len(c)% k"
   ]
  },
  {
   "cell_type": "code",
   "execution_count": 12,
   "metadata": {},
   "outputs": [
    {
     "data": {
      "text/plain": [
       "0.3"
      ]
     },
     "execution_count": 12,
     "metadata": {},
     "output_type": "execute_result"
    }
   ],
   "source": [
    "3/10"
   ]
  },
  {
   "cell_type": "code",
   "execution_count": 15,
   "metadata": {},
   "outputs": [],
   "source": [
    "def jumpingOnClouds(c, k):\n",
    "    \n",
    "    # given energy\n",
    "    energy = 100\n",
    "    n = len(c)\n",
    "    i = k%n\n",
    "    energy -= c[i]*2+1\n",
    "    # if it is not starting point\n",
    "    while i != 0:\n",
    "        i = (i+k)% n\n",
    "        energy -= c[i]*2 + 1\n",
    "    return energy"
   ]
  },
  {
   "cell_type": "code",
   "execution_count": 16,
   "metadata": {},
   "outputs": [
    {
     "data": {
      "text/plain": [
       "80"
      ]
     },
     "execution_count": 16,
     "metadata": {},
     "output_type": "execute_result"
    }
   ],
   "source": [
    "jumpingOnClouds(c,k)"
   ]
  },
  {
   "cell_type": "code",
   "execution_count": null,
   "metadata": {},
   "outputs": [],
   "source": []
  }
 ],
 "metadata": {
  "kernelspec": {
   "display_name": "Python 3",
   "language": "python",
   "name": "python3"
  },
  "language_info": {
   "codemirror_mode": {
    "name": "ipython",
    "version": 3
   },
   "file_extension": ".py",
   "mimetype": "text/x-python",
   "name": "python",
   "nbconvert_exporter": "python",
   "pygments_lexer": "ipython3",
   "version": "3.7.7"
  }
 },
 "nbformat": 4,
 "nbformat_minor": 4
}
