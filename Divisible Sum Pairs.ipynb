{
 "cells": [
  {
   "cell_type": "markdown",
   "metadata": {},
   "source": [
    "You are given an array of  integers, , and a positive integer, . Find and print the number of  pairs where  and  +  is divisible by .\n",
    "\n",
    "For example,  and . Our three pairs meeting the criteria are  and .\n",
    "\n",
    "Function Description\n",
    "\n",
    "Complete the divisibleSumPairs function in the editor below. It should return the integer count of pairs meeting the criteria.\n",
    "\n",
    "divisibleSumPairs has the following parameter(s):\n",
    "\n",
    "n: the integer length of array \n",
    "ar: an array of integers\n",
    "k: the integer to divide the pair sum by\n",
    "Input Format\n",
    "\n",
    "The first line contains  space-separated integers,  and .\n",
    "The second line contains  space-separated integers describing the values of .\n",
    "\n",
    "Constraints\n",
    "\n",
    "Output Format\n",
    "\n",
    "Print the number of  pairs where  and  +  is evenly divisible by .\n",
    "\n",
    "Sample Input\n",
    "\n",
    "6 3\n",
    "1 3 2 6 1 2\n",
    "Sample Output\n",
    "\n",
    " 5\n",
    "Explanation"
   ]
  },
  {
   "cell_type": "code",
   "execution_count": 1,
   "metadata": {},
   "outputs": [],
   "source": [
    "ar = [1 ,3, 2, 6, 1, 2]"
   ]
  },
  {
   "cell_type": "code",
   "execution_count": 16,
   "metadata": {},
   "outputs": [
    {
     "name": "stdout",
     "output_type": "stream",
     "text": [
      "0 1\n",
      "0 2\n",
      "0 3\n",
      "0 4\n",
      "0 5\n",
      "1 2\n",
      "1 3\n",
      "1 4\n",
      "1 5\n",
      "2 3\n",
      "2 4\n",
      "2 5\n",
      "3 4\n",
      "3 5\n",
      "4 5\n"
     ]
    }
   ],
   "source": [
    "for i in range(len(ar)):\n",
    "    for j in range(i+1, len(ar)):\n",
    "        print(i,j)"
   ]
  },
  {
   "cell_type": "code",
   "execution_count": 19,
   "metadata": {},
   "outputs": [],
   "source": [
    "# Complete the divisibleSumPairs function below.\n",
    "def divisibleSumPairs(n, k, ar):\n",
    "    # first, create sum of pair list from array\n",
    "    lst = []\n",
    "    for i in range(len(ar)):\n",
    "        for j in range(i+1, len(ar)):\n",
    "            #print(ar[i]+ar[j])\n",
    "            lst.append(ar[i]+ar[j])\n",
    "    \n",
    "    # Second, check it is %k ==0\n",
    "    count = 0\n",
    "    for num in lst:\n",
    "        if num % k == 0:\n",
    "            count+=1\n",
    "    return count"
   ]
  },
  {
   "cell_type": "code",
   "execution_count": 20,
   "metadata": {},
   "outputs": [
    {
     "data": {
      "text/plain": [
       "5"
      ]
     },
     "execution_count": 20,
     "metadata": {},
     "output_type": "execute_result"
    }
   ],
   "source": [
    "divisibleSumPairs(6,3,ar)"
   ]
  },
  {
   "cell_type": "code",
   "execution_count": 21,
   "metadata": {},
   "outputs": [],
   "source": [
    "# for O optimization\n",
    "def divisibleSumPairs(n, k, ar):\n",
    "    # Complete this function\n",
    "    count = 0\n",
    "    for i in range(n-1):\n",
    "        j = i+1\n",
    "        while j < n:\n",
    "            if ((ar[i] + ar[j]) % k) == 0:\n",
    "                count += 1\n",
    "            j += 1\n",
    "    return count"
   ]
  },
  {
   "cell_type": "code",
   "execution_count": null,
   "metadata": {},
   "outputs": [],
   "source": []
  }
 ],
 "metadata": {
  "kernelspec": {
   "display_name": "Python 3",
   "language": "python",
   "name": "python3"
  },
  "language_info": {
   "codemirror_mode": {
    "name": "ipython",
    "version": 3
   },
   "file_extension": ".py",
   "mimetype": "text/x-python",
   "name": "python",
   "nbconvert_exporter": "python",
   "pygments_lexer": "ipython3",
   "version": "3.7.7"
  }
 },
 "nbformat": 4,
 "nbformat_minor": 4
}
