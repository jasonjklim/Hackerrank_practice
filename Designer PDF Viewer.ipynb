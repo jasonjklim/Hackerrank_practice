{
 "cells": [
  {
   "cell_type": "markdown",
   "metadata": {},
   "source": [
    "When a contiguous block of text is selected in a PDF viewer, the selection is highlighted with a blue rectangle. In this PDF viewer, each word is highlighted independently. For example:\n",
    "\n",
    "PDF-highighting.png\n",
    "\n",
    "There is a list of  character heights aligned by index to their letters. For example, 'a' is at index  and 'z' is at index . There will also be a string. Using the letter heights given, determine the area of the rectangle highlight in  assuming all letters are  wide.\n",
    "\n",
    "Example\n",
    " \n",
    "\n",
    "The heights are  and . The tallest letter is  high and there are  letters. The hightlighted area will be  so the answer is .\n",
    "\n",
    "Function Description\n",
    "\n",
    "Complete the designerPdfViewer function in the editor below.\n",
    "\n",
    "designerPdfViewer has the following parameter(s):\n",
    "\n",
    "int h[26]: the heights of each letter\n",
    "string word: a string\n",
    "Returns\n",
    "\n",
    "int: the size of the highlighted area\n",
    "Input Format\n",
    "\n",
    "The first line contains  space-separated integers describing the respective heights of each consecutive lowercase English letter, ascii[a-z].\n",
    "The second line contains a single word consisting of lowercase English alphabetic letters.\n",
    "\n",
    "Constraints\n",
    "\n",
    ", where  is an English lowercase letter.\n",
    " contains no more than  letters.\n",
    "Sample Input 0\n",
    "\n",
    "1 3 1 3 1 4 1 3 2 5 5 5 5 5 5 5 5 5 5 5 5 5 5 5 5 5\n",
    "abc\n",
    "Sample Output 0\n",
    "\n",
    "9"
   ]
  },
  {
   "cell_type": "code",
   "execution_count": 25,
   "metadata": {},
   "outputs": [],
   "source": [
    "def designerPdfViewer(h, word):\n",
    "    # for string index\n",
    "    import string\n",
    "    values = dict()\n",
    "    for index, letter in enumerate(string.ascii_lowercase):\n",
    "        values[letter] = index\n",
    "    # create index list\n",
    "    indexes= []\n",
    "    for i in word:\n",
    "        indexes.append(values[i])\n",
    "        \n",
    "    # heights list\n",
    "    # use ind from index list, find word index\n",
    "# word index should be -1\n",
    "    heights = []\n",
    "    for ind in indexes:\n",
    "        heights.append(h[ind])\n",
    "        \n",
    "    area = max(heights)*len(word)\n",
    "    \n",
    "    return area"
   ]
  },
  {
   "cell_type": "code",
   "execution_count": 26,
   "metadata": {},
   "outputs": [
    {
     "data": {
      "text/plain": [
       "9"
      ]
     },
     "execution_count": 26,
     "metadata": {},
     "output_type": "execute_result"
    }
   ],
   "source": [
    "h = [1, 3, 1, 3, 1, 4, 1, 3, 2, 5, 5, 5, 5, 5, 5, 5, 5, 5, 5, 5, 5, 5, 5, 5, 5, 5]\n",
    "word = 'abc'\n",
    "designerPdfViewer(h, word)"
   ]
  },
  {
   "cell_type": "code",
   "execution_count": 14,
   "metadata": {},
   "outputs": [],
   "source": [
    "# for string index\n",
    "import string\n",
    "values = dict()\n",
    "for index, letter in enumerate(string.ascii_lowercase):\n",
    "    values[letter] = index"
   ]
  },
  {
   "cell_type": "code",
   "execution_count": 15,
   "metadata": {},
   "outputs": [],
   "source": [
    "word = [1, 3, 1, 3, 1, 4, 1, 3, 2, 5, 5, 5, 5, 5, 5, 5, 5, 5, 5, 5, 5, 5, 5, 5, 5, 5]"
   ]
  },
  {
   "cell_type": "code",
   "execution_count": 22,
   "metadata": {},
   "outputs": [
    {
     "data": {
      "text/plain": [
       "[0, 1, 2]"
      ]
     },
     "execution_count": 22,
     "metadata": {},
     "output_type": "execute_result"
    }
   ],
   "source": [
    "# create index list\n",
    "index= []\n",
    "for i in word:\n",
    "    index.append(values[i])\n",
    "    \n",
    "index\n",
    "    "
   ]
  },
  {
   "cell_type": "code",
   "execution_count": 23,
   "metadata": {},
   "outputs": [],
   "source": [
    "# use ind from index list, find word index\n",
    "# word index should be -1\n",
    "heights = []\n",
    "for ind in index:\n",
    "    heights.append(h[ind])\n",
    "    "
   ]
  },
  {
   "cell_type": "code",
   "execution_count": 24,
   "metadata": {},
   "outputs": [
    {
     "data": {
      "text/plain": [
       "[1, 3, 1]"
      ]
     },
     "execution_count": 24,
     "metadata": {},
     "output_type": "execute_result"
    }
   ],
   "source": [
    "heights"
   ]
  },
  {
   "cell_type": "code",
   "execution_count": null,
   "metadata": {},
   "outputs": [],
   "source": []
  }
 ],
 "metadata": {
  "kernelspec": {
   "display_name": "Python 3",
   "language": "python",
   "name": "python3"
  },
  "language_info": {
   "codemirror_mode": {
    "name": "ipython",
    "version": 3
   },
   "file_extension": ".py",
   "mimetype": "text/x-python",
   "name": "python",
   "nbconvert_exporter": "python",
   "pygments_lexer": "ipython3",
   "version": "3.7.7"
  }
 },
 "nbformat": 4,
 "nbformat_minor": 4
}
